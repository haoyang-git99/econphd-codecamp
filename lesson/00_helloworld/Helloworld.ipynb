{
 "cells": [
  {
   "cell_type": "markdown",
   "id": "945dad45-c5bd-4b9f-84fc-0b989ae8ffc6",
   "metadata": {},
   "source": [
    "# Hello world\n",
    "\n",
    "Python version\n",
    "\n",
    "## Background\n",
    "\n",
    "\"Hello World\" is a classic programming exercise, often considered the first step in learning a new programming language. It consists of constructing a minimal program which will output the words \"Hello World.\" If it runs without errors, this demonstrates that the software is installed correctly in the computing environment and that the user has been able to build a very simple program.\n",
    "\n",
    "## Starter code\n",
    "\n",
    "The two cells below contain starter code comprising a complete \"Hello World\" program. You can run this code to verify that your software installation has been successful.\n",
    "\n",
    "## Exercise\n",
    "\n",
    "As an exercise, you can write your own modified \"Hello World\" program. See instructions below, after the starter code.\n"
   ]
  },
  {
   "cell_type": "code",
   "execution_count": 2,
   "id": "5e15fd6d-7f95-4708-8670-a8c32b26a595",
   "metadata": {},
   "outputs": [],
   "source": [
    "## Here we define three strings, each containing part of the \"hello world\" statement.\n",
    "## It is not necessary to break things up in this way--here we have done it for fun and to demonstrate some additional characteristics of the language.\n",
    "\n",
    "\n",
    "firstword = \"Hello\"\n",
    "\n",
    "secondword = \"World\"\n",
    "\n",
    "finalpunctuation = \"!!!\"\n",
    "\n",
    "\n",
    "## Strings in Python can be offset using single quotes `'` double quotes `\"`. \n",
    "## They can also be offset using triple-quotes of either type `'''` or `\"\"\"`, which allows for line-breaks in the middle of the string.\n"
   ]
  },
  {
   "cell_type": "code",
   "execution_count": 3,
   "id": "f867e661-6cd5-4549-9cf8-e76dc7792a63",
   "metadata": {},
   "outputs": [
    {
     "name": "stdout",
     "output_type": "stream",
     "text": [
      "Hello World!!!\n"
     ]
    }
   ],
   "source": [
    "## In Python, the `+` plus signs concatenate strings\n",
    "## The `print()` function outputs strings to the console.\n",
    "\n",
    "print(firstword + \" \" + secondword + finalpunctuation)"
   ]
  },
  {
   "cell_type": "markdown",
   "id": "bf9b8fa9-dcba-4cd1-94ef-44e5c67904c2",
   "metadata": {},
   "source": [
    "## Exercise instructions\n",
    "\n",
    "Write a \"Hello World\" program similar to the above, but:\n",
    "  1. Split the message into 4 or more strings (instead of just 3, as above).\n",
    "  2. Change at least 1 word.\n",
    "  3. Include a line break in the final output (make the output appear on multiple lines).\n",
    "  4. Use single-quotes or triple quotes to define at least one of the strings.\n",
    "     "
   ]
  },
  {
   "cell_type": "code",
   "execution_count": 1,
   "id": "db8d3749-84b7-4da8-8314-9defbfca9618",
   "metadata": {},
   "outputs": [
    {
     "name": "stdout",
     "output_type": "stream",
     "text": [
      "Hi you!!!!\n"
     ]
    }
   ],
   "source": [
    "firstword = \"Hi\"\n",
    "\n",
    "nextword = \"you\"\n",
    "\n",
    "print(firstword + \" \" + nextword + \"!!!!\")"
   ]
  },
  {
   "cell_type": "code",
   "execution_count": null,
   "id": "ce3a7091-cc07-43b4-a644-919b43b4d146",
   "metadata": {},
   "outputs": [],
   "source": []
  }
 ],
 "metadata": {
  "kernelspec": {
   "display_name": "Python 3 (ipykernel)",
   "language": "python",
   "name": "python3"
  },
  "language_info": {
   "codemirror_mode": {
    "name": "ipython",
    "version": 3
   },
   "file_extension": ".py",
   "mimetype": "text/x-python",
   "name": "python",
   "nbconvert_exporter": "python",
   "pygments_lexer": "ipython3",
   "version": "3.12.1"
  }
 },
 "nbformat": 4,
 "nbformat_minor": 5
}
