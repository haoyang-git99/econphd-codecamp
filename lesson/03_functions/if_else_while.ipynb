{
 "cells": [
  {
   "cell_type": "markdown",
   "id": "bcf2d823-5dbf-47a3-b45b-9a75022d5afb",
   "metadata": {},
   "source": [
    "# Conditional statements and flow control: `if`, `else`, `while`\n",
    "\n",
    "Conditional statements are an important part of just about every programming language.\n",
    "\n",
    "In Python, they take the form\n",
    "\n",
    "```\n",
    "<keyword> <condition>:\n",
    "    <some code to evaluate>\n",
    "```\n",
    "\n",
    "The code to evaluate *must* be indented correctly. It does not need to be enclosed in brackets as in Java or R, nor does it require a closing `end` statement as in Matlab.\n",
    "\n",
    "A small example is contained in the next cell. `if` is the keyword, `water == 'wet'` is the condition, and the code to evaluate is `print('duck')`."
   ]
  },
  {
   "cell_type": "code",
   "execution_count": 1,
   "id": "e2392b14-55b7-4db6-b0eb-837b80c67367",
   "metadata": {},
   "outputs": [
    {
     "name": "stdout",
     "output_type": "stream",
     "text": [
      "duck\n"
     ]
    }
   ],
   "source": [
    "water = 'wet'\n",
    "\n",
    "if water == 'wet':\n",
    "    print('duck')\n",
    "\n"
   ]
  },
  {
   "cell_type": "markdown",
   "id": "16a3173e-2a99-44ae-a154-5c9ef1dbe2af",
   "metadata": {},
   "source": [
    "## `else`\n",
    "\n",
    "The keyword `else` follows a conditional statement declared with `if` and provides an alternative action in case the condition is false. For example:"
   ]
  },
  {
   "cell_type": "code",
   "execution_count": 2,
   "id": "c39f3324-938d-44e2-bf96-0273229dfccf",
   "metadata": {},
   "outputs": [
    {
     "name": "stdout",
     "output_type": "stream",
     "text": [
      "what?\n"
     ]
    }
   ],
   "source": [
    "water = 'dry'\n",
    "\n",
    "if water == 'wet':\n",
    "    print('duck')\n",
    "else:\n",
    "    print('what?')\n",
    "\n"
   ]
  },
  {
   "cell_type": "markdown",
   "id": "4c91d9a8-f896-4e7a-bc69-30720baa2d11",
   "metadata": {},
   "source": [
    "## `elif`\n",
    "\n",
    "To simplify what otherwise might become unwieldy branching trees of if/else statements, most modern languages have an elseif keyword which, in Python's case, is abbreviated `elif`.\n",
    "\n",
    "In the following cell, we'll implement the same logic, first using nested statements, then using `elif`.\n"
   ]
  },
  {
   "cell_type": "code",
   "execution_count": 12,
   "id": "ce469c19-1c8a-4efb-9a73-196f0dcfcb84",
   "metadata": {},
   "outputs": [
    {
     "name": "stdout",
     "output_type": "stream",
     "text": [
      "Great! An A!\n",
      "Great! An A!\n"
     ]
    }
   ],
   "source": [
    "score = 95\n",
    "\n",
    "### Structure one, with nesting and branching\n",
    "if score >= 90:\n",
    "    if score >= 97:\n",
    "        print('Wow! An A+!')\n",
    "    else:\n",
    "        if score >= 93:\n",
    "            print('Great! An A!')\n",
    "        else:\n",
    "            print('Good! An A-!')\n",
    "else:\n",
    "    if score >= 80:\n",
    "        if score >= 87:\n",
    "            print('Nice! A B+!')\n",
    "        else:\n",
    "            if score >= 83:\n",
    "                print('Okay. A B!')\n",
    "            else:\n",
    "                print(\"Well, that's not so bad. A B-!\")\n",
    "    else:\n",
    "        if score >= 70:\n",
    "            if score >= 77:\n",
    "                print('So close! A C+!')\n",
    "            else:\n",
    "                if score >= 73:\n",
    "                    print('Hmm. A C.')\n",
    "                else:\n",
    "                    print('Yikes! A C-!')\n",
    "        else:\n",
    "            if score >= 60:\n",
    "                print('Ouch!')\n",
    "            else:\n",
    "                print('Too bad! Try again next time!')\n",
    "\n",
    "### Structure two. We actually still do a bit of nesting, just for fun. But with `elif`, branching is minimized.\n",
    "if score >= 90:\n",
    "    if score >= 97:\n",
    "        print('Wow! An A+!')\n",
    "    elif score >= 93:\n",
    "        print('Great! An A!')\n",
    "    else:\n",
    "        print('Good! An A-!')\n",
    "elif score >= 80:\n",
    "    if score >= 87:\n",
    "        print('Nice! A B+!')\n",
    "    elif score >= 83:\n",
    "        print('Okay. A B!')\n",
    "    else:\n",
    "        print(\"Well, that's not so bad. A B-!\")\n",
    "elif score >= 70:\n",
    "    if score >= 77:\n",
    "        print('So close! A C+!')\n",
    "    elif score >= 73:\n",
    "        print('Hmm. A C.')\n",
    "    else:\n",
    "        print('Yikes! A C-!')\n",
    "elif score >= 60:\n",
    "    print('Ouch!')\n",
    "else:\n",
    "    print('Too bad! Try again next time!')"
   ]
  },
  {
   "cell_type": "markdown",
   "id": "6888fb15-6e0f-4b5e-8b29-c82be455d1a4",
   "metadata": {},
   "source": [
    "## `while` loops\n",
    "\n",
    "A \"while\" loop, instead of terminating after iterating through a certain number of items, terminates according to a conditional statement.\n",
    "\n",
    "The following cell contains an example of a `for` loop and a `while` loop that both do the same thing. The `while` loop will keep executing until the conditional statement turns up false."
   ]
  },
  {
   "cell_type": "code",
   "execution_count": 13,
   "id": "19cb63ae-c81f-4433-af84-5f0ebd9c95ec",
   "metadata": {},
   "outputs": [
    {
     "name": "stdout",
     "output_type": "stream",
     "text": [
      "0\n",
      "1\n",
      "2\n",
      "0\n",
      "1\n",
      "2\n"
     ]
    }
   ],
   "source": [
    "## with `for`\n",
    "for i in range(3):\n",
    "    print(i)\n",
    "\n",
    "\n",
    "## with `while`\n",
    "i = 0\n",
    "while i < 3:\n",
    "    print(i)\n",
    "    i += 1"
   ]
  },
  {
   "cell_type": "markdown",
   "id": "96b4faf7-af57-4df1-9ef6-14defd262e74",
   "metadata": {},
   "source": [
    "### `break`\n",
    "\n",
    "Both `for` and `while` loops can be interrupted with the `break` command.\n",
    "\n",
    "Can you figure out the simple reason why the `for` loop needs to break for `i > 2` but the `while` loop needs to break for `i > 3` in order to have the same behavior in the implementation below?"
   ]
  },
  {
   "cell_type": "code",
   "execution_count": 3,
   "id": "b83e93bb-0c98-4d5c-84e2-a852a7130290",
   "metadata": {},
   "outputs": [
    {
     "name": "stdout",
     "output_type": "stream",
     "text": [
      "0\n",
      "1\n",
      "2\n",
      "3\n",
      "0\n",
      "1\n",
      "2\n",
      "3\n"
     ]
    }
   ],
   "source": [
    "## with `for`\n",
    "for i in range(9999999):\n",
    "    print(i)\n",
    "    if i > 2:\n",
    "        break\n",
    "\n",
    "\n",
    "## with `while`\n",
    "i = 0\n",
    "while i < 9999999:\n",
    "    print(i)\n",
    "    i += 1\n",
    "    if i > 3:\n",
    "        break"
   ]
  },
  {
   "cell_type": "code",
   "execution_count": null,
   "id": "fe0c6e76-60df-46bb-a1e0-662db5256bc6",
   "metadata": {},
   "outputs": [],
   "source": []
  }
 ],
 "metadata": {
  "kernelspec": {
   "display_name": "Python 3 (ipykernel)",
   "language": "python",
   "name": "python3"
  },
  "language_info": {
   "codemirror_mode": {
    "name": "ipython",
    "version": 3
   },
   "file_extension": ".py",
   "mimetype": "text/x-python",
   "name": "python",
   "nbconvert_exporter": "python",
   "pygments_lexer": "ipython3",
   "version": "3.12.1"
  }
 },
 "nbformat": 4,
 "nbformat_minor": 5
}
