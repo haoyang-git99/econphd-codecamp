{
 "cells": [
  {
   "cell_type": "markdown",
   "id": "29fa3079-d64e-48fb-b259-13ea4ce2d19b",
   "metadata": {},
   "source": [
    "# Functions\n",
    "\n",
    "Functions are a construct used by many programming languages to organize code and promote reusability.\n",
    "\n",
    "\"Organizing code\" means structuring it in a logical way that makes it easier to understand--both for others and for yourself.\n",
    "\n",
    "\"Promoting reusability\" means minimizing the amount of repetitive copy-pasting you have to do!\n",
    "\n",
    "Repetitive copy-pasting is generally bad because\n",
    "  1. It tends to make code longer and harder to read.\n",
    "  2. Each time you copy-paste you usually also have to make some small edits, and therefore to also make some small mistakes/errors!\n",
    "  3. If later you decided whatever you copy-pasted needs to be rewritten/changed, it can be hard to find all instances and update them. If you miss a few, say hello to more errors!\n",
    "\n",
    "\n",
    "## In illustrative example: greeting by name\n",
    "\n",
    "It may help to make \"the point\" of using functions more concrete if we walk through a simple illustrative example.\n",
    "\n",
    "### Iteration 1: 4 names, copy-paste style\n",
    "\n",
    "Consider the following script in which we want to say hello to various people and count the number of letters in their names. "
   ]
  },
  {
   "cell_type": "code",
   "execution_count": 9,
   "id": "c6e3efd3-326f-4c53-a29c-2b6767a75e9a",
   "metadata": {},
   "outputs": [
    {
     "name": "stdout",
     "output_type": "stream",
     "text": [
      "Hello Julia! The number of letters in your name is 5!\n",
      "Hello Marc! The number of letters in your name is 4!\n",
      "Hello Rania! The number of letters in your name is 5!\n",
      "Hello Winnifred! The number of letters in your name is 9!\n"
     ]
    }
   ],
   "source": [
    "## Iteration 1: 4 names, copy-paste style\n",
    "\n",
    "curname = \"Julia\"\n",
    "print('Hello ' + curname + '!','The number of letters in your name is ' + str(len(curname)) + '!')\n",
    "\n",
    "curname = \"Marc\"\n",
    "print('Hello ' + curname + '!','The number of letters in your name is ' + str(len(curname)) + '!')\n",
    "\n",
    "curname = \"Rania\"\n",
    "print('Hello ' + curname + '!','The number of letters in your name is ' + str(len(curname)) + '!')\n",
    "\n",
    "curname = \"Winnifred\"\n",
    "print('Hello ' + curname + '!','The number of letters in your name is ' + str(len(curname)) + '!')"
   ]
  },
  {
   "cell_type": "markdown",
   "id": "46d0a1bf-b2e5-4ccd-96c2-2ec5ce81427d",
   "metadata": {},
   "source": [
    "## Iteration 2: add a name + some functionality, copy-paste style\n",
    "\n",
    "Now suppose we decide need to greet one more person, Gajendran, and that we should also mention the first letter for each person's name.\n",
    "\n",
    "We'll have to copy-paste one more time, and go back and edit each instance."
   ]
  },
  {
   "cell_type": "code",
   "execution_count": 10,
   "id": "e03970d6-e02a-4348-8467-6ea3aca30f98",
   "metadata": {},
   "outputs": [
    {
     "name": "stdout",
     "output_type": "stream",
     "text": [
      "Hello Julia! The number of letters in your name is 5!\n",
      "Hello Marc! The number of letters in your name is 4, and the first letter of your name is M!\n",
      "Hello Rania! The number of letters in your name is 5!\n",
      "Hello Winnifred! The number of letters in your name is 9, and the first letter of your name is W!\n",
      "Hello Gajendran! The number of letters in your name is 9, and the first letter of your name is G!\n"
     ]
    }
   ],
   "source": [
    "## Iteration 2: add a name + some functionality, copy-paste style\n",
    "\n",
    "\n",
    "curname = \"Julia\"\n",
    "print('Hello ' + curname + '!','The number of letters in your name is ' + str(len(curname)) + '!')\n",
    "\n",
    "curname = \"Marc\"\n",
    "print('Hello ' + curname + '!','The number of letters in your name is ' + str(len(curname)) + ', and the first letter of your name is ' + curname[0] +'!')\n",
    "\n",
    "curname = \"Rania\"\n",
    "print('Hello ' + curname + '!','The number of letters in your name is ' + str(len(curname)) + '!')\n",
    "\n",
    "curname = \"Winnifred\"\n",
    "print('Hello ' + curname + '!','The number of letters in your name is ' + str(len(curname)) + ', and the first letter of your name is ' + curname[0] +'!')\n",
    "\n",
    "curname = \"Gajendran\"\n",
    "print('Hello ' + curname + '!','The number of letters in your name is ' + str(len(curname)) + ', and the first letter of your name is ' + curname[0] +'!')"
   ]
  },
  {
   "cell_type": "markdown",
   "id": "89c6d904-34c3-4e69-9562-1b7baad684d8",
   "metadata": {},
   "source": [
    "Two things:\n",
    " 1. Now our code is getting long and messy-looking.\n",
    " 2. We forgot to update a couple of lines, so now our output is inconsistent. Once we notice the mistakes, we'll have to go back and make the additional edits.\n",
    "\n",
    "## Iteration 3: wrap the repeated part in a function\n",
    "\n",
    "Now, imagine we define a greeting function."
   ]
  },
  {
   "cell_type": "code",
   "execution_count": 13,
   "id": "887dc671-301d-4841-b199-d41bba9ca248",
   "metadata": {},
   "outputs": [
    {
     "name": "stdout",
     "output_type": "stream",
     "text": [
      "Hello Julia! The number of letters in your name is 5!\n",
      "Hello Marc! The number of letters in your name is 4!\n",
      "Hello Rania! The number of letters in your name is 5!\n",
      "Hello Winnifred! The number of letters in your name is 9!\n"
     ]
    }
   ],
   "source": [
    "## Iteration 3: wrap the repeated part in a function\n",
    "\n",
    "\n",
    "def greet_the_people(their_name):\n",
    "    return 'Hello ' + their_name + '!' + ' The number of letters in your name is ' + str(len(their_name)) + '!'\n",
    "\n",
    "curname = \"Julia\"\n",
    "print(greet_the_people(curname))\n",
    "\n",
    "curname = \"Marc\"\n",
    "print(greet_the_people(curname))\n",
    "\n",
    "curname = \"Rania\"\n",
    "print(greet_the_people(curname))\n",
    "\n",
    "curname = \"Winnifred\"\n",
    "print(greet_the_people(curname))\n"
   ]
  },
  {
   "cell_type": "markdown",
   "id": "75db7aff-4f00-4df9-b6a0-d1b7e1dcd498",
   "metadata": {},
   "source": [
    "## Iteration 4: wrap the repeated part in a function, loop over list of inputs\n",
    "\n",
    "That's a little bit more succinct. We can make it even better by organizing the names into a list, and looping through them."
   ]
  },
  {
   "cell_type": "code",
   "execution_count": 14,
   "id": "0eb8bd9f-bc81-43e2-932d-b6d5602a077f",
   "metadata": {},
   "outputs": [
    {
     "name": "stdout",
     "output_type": "stream",
     "text": [
      "Hello Julia! The number of letters in your name is 5!\n",
      "Hello Marc! The number of letters in your name is 4!\n",
      "Hello Rania! The number of letters in your name is 5!\n",
      "Hello Winnifred! The number of letters in your name is 9!\n"
     ]
    }
   ],
   "source": [
    "## Iteration 4: wrap the repeated part in a function, loop over list of inputs\n",
    "\n",
    "def greet_the_people(their_name):\n",
    "    return 'Hello ' + their_name + '!' + ' The number of letters in your name is ' + str(len(their_name)) + '!'\n",
    "\n",
    "people_to_greet = ['Julia','Marc','Rania','Winnifred']\n",
    "\n",
    "for curname in people_to_greet:\n",
    "    print(greet_the_people(curname))\n",
    "\n"
   ]
  },
  {
   "cell_type": "markdown",
   "id": "064418fc-9915-452d-9e3c-390a9b9d491e",
   "metadata": {},
   "source": [
    "## Iteration 5: break function into sub-functions representing logically distinct steps\n",
    "\n",
    "We could break it down even further by splitting our greeting function into two parts: the initial hello, then the facts about the name, as shown below."
   ]
  },
  {
   "cell_type": "code",
   "execution_count": null,
   "id": "8567e0eb-9eff-4656-bd40-71da003e020f",
   "metadata": {},
   "outputs": [],
   "source": [
    "## Iteration 5: break function into sub-functions representing logically distinct steps\n",
    "\n",
    "def just_say_hello(thename):\n",
    "    return 'Hello ' + thename + '!'\n",
    "\n",
    "def name_fun_facts(thename):\n",
    "    return 'The number of letters in your name is ' + str(len(thename)) + '!'\n",
    "\n",
    "def greet_the_people(their_name):\n",
    "    return just_say_hello(their_name) + ' ' + name_fun_facts(their_name)\n",
    "\n",
    "people_to_greet = ['Julia','Marc','Rania','Winnifred']\n",
    "\n",
    "for curname in people_to_greet:\n",
    "    print(greet_the_people(curname))\n",
    "\n"
   ]
  },
  {
   "cell_type": "markdown",
   "id": "dd4af8d0-aea6-432b-aa66-b72b819d8978",
   "metadata": {},
   "source": [
    "## Iteration 6: modify a substep, add many more inputs\n",
    "\n",
    "Now, when we want to add an additional name, we just have to add the name to our list. And when we want to change the kinds of fun facts we output, we just have to edit one small piece of code which is clearly separated according to its function. Let's add the bit about the first letter, and 5 more names."
   ]
  },
  {
   "cell_type": "code",
   "execution_count": 20,
   "id": "361ca834-18d1-4c01-ab30-7815ac727c72",
   "metadata": {},
   "outputs": [
    {
     "name": "stdout",
     "output_type": "stream",
     "text": [
      "Hello Julia! The number of letters in your name is 5, and the first letter of your name is J!\n",
      "Hello Marc! The number of letters in your name is 4, and the first letter of your name is M!\n",
      "Hello Rania! The number of letters in your name is 5, and the first letter of your name is R!\n",
      "Hello Winnifred! The number of letters in your name is 9, and the first letter of your name is W!\n",
      "Hello Gajendran! The number of letters in your name is 9, and the first letter of your name is G!\n",
      "Hello Tongbin! The number of letters in your name is 7, and the first letter of your name is T!\n",
      "Hello Uyen! The number of letters in your name is 4, and the first letter of your name is U!\n",
      "Hello Joe! The number of letters in your name is 3, and the first letter of your name is J!\n",
      "Hello Malcolm! The number of letters in your name is 7, and the first letter of your name is M!\n"
     ]
    }
   ],
   "source": [
    "## Iteration 6: modify a substep, add many more inputs\n",
    "\n",
    "def just_say_hello(thename):\n",
    "    return 'Hello ' + thename + '!'\n",
    "\n",
    "def name_fun_facts(thename):\n",
    "    return 'The number of letters in your name is ' + str(len(thename)) + ', and the first letter of your name is ' + thename[0] + '!'\n",
    "\n",
    "def greet_the_people(their_name):\n",
    "    return just_say_hello(their_name) + ' ' + name_fun_facts(their_name)\n",
    "\n",
    "people_to_greet = ['Julia','Marc','Rania','Winnifred',\n",
    "                   'Gajendran','Tongbin','Uyen','Joe','Malcolm']\n",
    "\n",
    "for curname in people_to_greet:\n",
    "    print(greet_the_people(curname))\n",
    "\n"
   ]
  },
  {
   "cell_type": "markdown",
   "id": "309dcc79-8687-4046-ad52-00ec6fccf2d1",
   "metadata": {},
   "source": [
    "### Name-greeting example: in conclusion\n",
    "\n",
    "See how this last code example remains compact, even though we've more than doubled the volume of output? And we were able to correctly update all of our output by only making a change in 1 part of the code.\n",
    "\n",
    "Next, if we decided to be grammatically correct and add a comma after \"Hello\", imagine how easy it would be! We'd only have to add a single character in the right place."
   ]
  },
  {
   "cell_type": "markdown",
   "id": "4d3e31c0-595f-473f-b3ae-f454d889c090",
   "metadata": {},
   "source": [
    "## Functions: a more general overview\n",
    "\n",
    "The three key components of a function in any programming language are **input values** (also called **arguments**), **output values** (also called **return values**), and **other actions** (my own terminology) not directly related to producing the output values/return values. It is possible for one or more of these elements to be blank/an empty set: you can write a function with no inputs, or no outputs, or no important actions other than the outputs it provides.\n",
    "\n",
    "An example of a function with all three elements, declared in the standard way, is as follows:\n",
    "\n"
   ]
  },
  {
   "cell_type": "code",
   "execution_count": 28,
   "id": "ed2318dd-929a-48a3-8415-4527324b9168",
   "metadata": {},
   "outputs": [
    {
     "name": "stdout",
     "output_type": "stream",
     "text": [
      "3 plus three is 6\n",
      "6\n"
     ]
    }
   ],
   "source": [
    "def a_function(an_input):\n",
    "    ## some actions to produce the output\n",
    "    an_output = an_input + 3\n",
    "\n",
    "    ## we can call the next line \"other actions\" because it's not directly related to the output\n",
    "    print(str(an_input) + ' plus three is ' + str(an_output))\n",
    "\n",
    "    return an_output\n",
    "\n",
    "three_plus_three = a_function(3)\n",
    "\n",
    "print(three_plus_three)"
   ]
  },
  {
   "cell_type": "markdown",
   "id": "e374d001-436c-4277-8c86-95e8dd25fe55",
   "metadata": {},
   "source": [
    "A function with no inputs and no other actions:"
   ]
  },
  {
   "cell_type": "code",
   "execution_count": 29,
   "id": "88ce0da5-165b-4a93-96af-6f078dc6d935",
   "metadata": {},
   "outputs": [
    {
     "name": "stdout",
     "output_type": "stream",
     "text": [
      "3.14159\n"
     ]
    }
   ],
   "source": [
    "def give_me_pi_to5decimals():\n",
    "    five_decimals_of_pi = 3.14159\n",
    "    return five_decimals_of_pi\n",
    "\n",
    "print(give_me_pi_to5decimals())"
   ]
  },
  {
   "cell_type": "markdown",
   "id": "710e4bc4-9edb-401d-955d-0c2ec2a50027",
   "metadata": {},
   "source": [
    "A function with no inputs or outputs, just other actions:"
   ]
  },
  {
   "cell_type": "code",
   "execution_count": 30,
   "id": "3266a95b-7ba3-480f-a6b7-e93a2b802f59",
   "metadata": {},
   "outputs": [
    {
     "name": "stdout",
     "output_type": "stream",
     "text": [
      "Hello world!\n"
     ]
    }
   ],
   "source": [
    "def helloworld():\n",
    "    print('Hello world!')\n",
    "\n",
    "helloworld()"
   ]
  },
  {
   "cell_type": "markdown",
   "id": "8268030f-afac-4ec6-a844-a591f0ad91c5",
   "metadata": {},
   "source": [
    "## Keyword arguments\n",
    "\n",
    "Python allows the declaration of keyword arguments. These arguments have a default value which they will be take if no other value is supplied. To set a different value for a keyword argument, you should name the argument.\n",
    "\n",
    "In the example below, you can choose how many digits of pi to return, up to five. Default choice is five.\n",
    "\n",
    "We also specify that the function should raise an error if more than 5 digits are chosen."
   ]
  },
  {
   "cell_type": "code",
   "execution_count": 48,
   "id": "968c979f-1e44-4978-932a-970df5a0095f",
   "metadata": {},
   "outputs": [
    {
     "name": "stdout",
     "output_type": "stream",
     "text": [
      "3.14159\n",
      "3.141\n",
      "3.1\n"
     ]
    },
    {
     "ename": "RuntimeError",
     "evalue": "We only know the first five digits!",
     "output_type": "error",
     "traceback": [
      "\u001b[1;31m---------------------------------------------------------------------------\u001b[0m",
      "\u001b[1;31mRuntimeError\u001b[0m                              Traceback (most recent call last)",
      "Cell \u001b[1;32mIn[48], line 11\u001b[0m\n\u001b[0;32m      9\u001b[0m \u001b[38;5;28mprint\u001b[39m(give_me_pi_to5decimals(ndec\u001b[38;5;241m=\u001b[39m\u001b[38;5;241m3\u001b[39m))\n\u001b[0;32m     10\u001b[0m \u001b[38;5;28mprint\u001b[39m(give_me_pi_to5decimals(ndec\u001b[38;5;241m=\u001b[39m\u001b[38;5;241m1\u001b[39m))\n\u001b[1;32m---> 11\u001b[0m \u001b[38;5;28mprint\u001b[39m(\u001b[43mgive_me_pi_to5decimals\u001b[49m\u001b[43m(\u001b[49m\u001b[43mndec\u001b[49m\u001b[38;5;241;43m=\u001b[39;49m\u001b[38;5;241;43m9\u001b[39;49m\u001b[43m)\u001b[49m)\n",
      "Cell \u001b[1;32mIn[48], line 3\u001b[0m, in \u001b[0;36mgive_me_pi_to5decimals\u001b[1;34m(ndec)\u001b[0m\n\u001b[0;32m      1\u001b[0m \u001b[38;5;28;01mdef\u001b[39;00m \u001b[38;5;21mgive_me_pi_to5decimals\u001b[39m(ndec\u001b[38;5;241m=\u001b[39m\u001b[38;5;241m5\u001b[39m):\n\u001b[0;32m      2\u001b[0m     \u001b[38;5;28;01mif\u001b[39;00m ndec \u001b[38;5;241m>\u001b[39m \u001b[38;5;241m5\u001b[39m:\n\u001b[1;32m----> 3\u001b[0m         \u001b[38;5;28;01mraise\u001b[39;00m \u001b[38;5;167;01mRuntimeError\u001b[39;00m(\u001b[38;5;124m\"\u001b[39m\u001b[38;5;124mWe only know the first five digits!\u001b[39m\u001b[38;5;124m\"\u001b[39m)\n\u001b[0;32m      4\u001b[0m     firstfive \u001b[38;5;241m=\u001b[39m \u001b[38;5;124m'\u001b[39m\u001b[38;5;124m14159\u001b[39m\u001b[38;5;124m'\u001b[39m\n\u001b[0;32m      5\u001b[0m     approx_pi \u001b[38;5;241m=\u001b[39m \u001b[38;5;28mfloat\u001b[39m(\u001b[38;5;124m'\u001b[39m\u001b[38;5;124m3.\u001b[39m\u001b[38;5;124m'\u001b[39m \u001b[38;5;241m+\u001b[39m firstfive[\u001b[38;5;241m0\u001b[39m:ndec])\n",
      "\u001b[1;31mRuntimeError\u001b[0m: We only know the first five digits!"
     ]
    }
   ],
   "source": [
    "def give_me_pi_to5decimals(ndec=5):\n",
    "    if ndec > 5:\n",
    "        raise RuntimeError(\"We only know the first five digits!\")\n",
    "    firstfive = '14159'\n",
    "    approx_pi = float('3.' + firstfive[0:ndec])\n",
    "    return approx_pi\n",
    "\n",
    "print(give_me_pi_to5decimals())\n",
    "print(give_me_pi_to5decimals(ndec=3))\n",
    "print(give_me_pi_to5decimals(ndec=1))\n",
    "print(give_me_pi_to5decimals(ndec=9))"
   ]
  },
  {
   "cell_type": "markdown",
   "id": "927c0e99-f659-4819-84ac-7ff44bb95b2d",
   "metadata": {},
   "source": [
    "## Example: a function with several inputs and several outputs\n",
    "\n",
    "This function will brute-force calculate the sum of a convergent geometric series."
   ]
  },
  {
   "cell_type": "code",
   "execution_count": 49,
   "id": "3f5cccec-8d42-4888-8b5e-00ef9a187c94",
   "metadata": {},
   "outputs": [
    {
     "name": "stdout",
     "output_type": "stream",
     "text": [
      "Sum calculated as 5.000000000000001 after 166 iterations.\n"
     ]
    }
   ],
   "source": [
    "def sum_convergent_geometric_series(a,tol=1e-16,maxits=10000):\n",
    "    if abs(a) >= 1:\n",
    "        raise RuntimeError('Absolute value greater than 1--will not converge!')\n",
    "\n",
    "    its = 0\n",
    "    cur_term = a**0\n",
    "    the_sum = 0\n",
    "    \n",
    "    while (abs(cur_term) > tol) and (its < maxits):\n",
    "        the_sum += cur_term\n",
    "        cur_term *= a\n",
    "        its += 1\n",
    "    return the_sum,its\n",
    "\n",
    "the_sum,total_iterations = sum_convergent_geometric_series(.8)\n",
    "\n",
    "print('Sum calculated as ' + str(the_sum) + ' after ' + str(total_iterations) + ' iterations.')"
   ]
  },
  {
   "cell_type": "markdown",
   "id": "cd459903-bc51-4564-aba7-31d07b847ec5",
   "metadata": {},
   "source": [
    "## Anonymous or \"lambda\" functions\n",
    "\n",
    "Like some other languages, Python allows you to define simplified anonymous or \"lambda\" functions. These have more limited functionality, but can be convenient if the calculation to be performed is simple and you don't want to clutter your code with another full standard function definition.\n",
    "\n",
    "The first example below is very simple."
   ]
  },
  {
   "cell_type": "code",
   "execution_count": 62,
   "id": "37c886a5-5abb-4a1a-a412-1785a9538976",
   "metadata": {},
   "outputs": [
    {
     "name": "stdout",
     "output_type": "stream",
     "text": [
      "9\n"
     ]
    },
    {
     "data": {
      "text/plain": [
       "-1.0"
      ]
     },
     "execution_count": 62,
     "metadata": {},
     "output_type": "execute_result"
    }
   ],
   "source": [
    "import numpy as np\n",
    "\n",
    "squarex = lambda x: x**2\n",
    "\n",
    "print(squarex(3))\n"
   ]
  },
  {
   "cell_type": "markdown",
   "id": "88fafe2d-816b-4eb4-b666-95fd553d7de7",
   "metadata": {},
   "source": [
    "Anonymous functions can have more than one input."
   ]
  },
  {
   "cell_type": "code",
   "execution_count": 79,
   "id": "f59b67cf-cbfc-48bc-91b2-ef874b4afa3d",
   "metadata": {},
   "outputs": [
    {
     "name": "stdout",
     "output_type": "stream",
     "text": [
      "78\n"
     ]
    }
   ],
   "source": [
    "\n",
    "a_polynomial_of_x_and_y = lambda x,y: 2*x**2 + 3*x*y + 4*y + 8\n",
    "\n",
    "print(a_polynomial_of_x_and_y(3,4))\n"
   ]
  },
  {
   "cell_type": "markdown",
   "id": "ddf4da0c-a556-414f-bdad-1a345037a38f",
   "metadata": {},
   "source": [
    "## Example: 4 ways to do the quadratic formula\n",
    "\n",
    "As seen in the implementation of the quadratic formula below, anonymous functions can also have multiple outputs wrapped within a single list or tuple.\n",
    "\n",
    "The first version below will provide both the \"plus\" and the \"minus\" solutions for the non-degenerate case. Notice that it is not able to handle imaginary outputs or cases where the quadratic term equals 0.\n"
   ]
  },
  {
   "cell_type": "code",
   "execution_count": 71,
   "id": "17f44675-c05a-42ee-93e8-2d0082d09287",
   "metadata": {},
   "outputs": [
    {
     "name": "stdout",
     "output_type": "stream",
     "text": [
      "(-0.12701665379258298, -7.872983346207417)\n",
      "(nan, nan)\n",
      "(nan, -inf)\n"
     ]
    },
    {
     "name": "stderr",
     "output_type": "stream",
     "text": [
      "C:\\Users\\MDelventhal\\AppData\\Local\\Temp\\ipykernel_27304\\2558662738.py:1: RuntimeWarning: invalid value encountered in sqrt\n",
      "  quadratic_formula_v0 = lambda a,b,c: ((-b + np.sqrt(b**2 - 4*a*c))/(2*a),(-b - np.sqrt(b**2 - 4*a*c))/(2*a))\n",
      "C:\\Users\\MDelventhal\\AppData\\Local\\Temp\\ipykernel_27304\\2558662738.py:1: RuntimeWarning: invalid value encountered in scalar divide\n",
      "  quadratic_formula_v0 = lambda a,b,c: ((-b + np.sqrt(b**2 - 4*a*c))/(2*a),(-b - np.sqrt(b**2 - 4*a*c))/(2*a))\n",
      "C:\\Users\\MDelventhal\\AppData\\Local\\Temp\\ipykernel_27304\\2558662738.py:1: RuntimeWarning: divide by zero encountered in scalar divide\n",
      "  quadratic_formula_v0 = lambda a,b,c: ((-b + np.sqrt(b**2 - 4*a*c))/(2*a),(-b - np.sqrt(b**2 - 4*a*c))/(2*a))\n"
     ]
    }
   ],
   "source": [
    "quadratic_formula_v0 = lambda a,b,c: ((-b + np.sqrt(b**2 - 4*a*c))/(2*a),(-b - np.sqrt(b**2 - 4*a*c))/(2*a))\n",
    "\n",
    "\n",
    "print(quadratic_formula_v0(1,8,1))\n",
    "print(quadratic_formula_v0(1,1,1))\n",
    "print(quadratic_formula_v0(0,1,1))\n"
   ]
  },
  {
   "cell_type": "markdown",
   "id": "1691a544-1e69-4a33-a311-8ea9269a6459",
   "metadata": {},
   "source": [
    "In this version we add a `0j` to the $b$ in the discriminant just in case the discriminant is negative requiring an imaginary output. Perhaps more interesting is that now we have a simple conditional statement guiding output: if the quadratic term is zero, it provides the single simple algebraic solution for $x$.\n",
    "\n",
    "Notice that it will return complex numbers even if the imaginary part of the soluations is equal to zero."
   ]
  },
  {
   "cell_type": "code",
   "execution_count": 72,
   "id": "51f7a341-1ccb-4d44-b6ea-a8476922168b",
   "metadata": {},
   "outputs": [
    {
     "name": "stdout",
     "output_type": "stream",
     "text": [
      "((-0.12701665379258298+0j), (-7.872983346207417+0j))\n",
      "((-0.5+0.8660254037844386j), (-0.5-0.8660254037844386j))\n",
      "-1.0\n"
     ]
    }
   ],
   "source": [
    "quadratic_formula_v1 = lambda a,b,c: ((-b + np.sqrt((b + 0j)**2 - 4*a*c))/(2*a),(-b - np.sqrt((b + 0j)**2 - 4*a*c))/(2*a)) if (a != 0) else -c/b\n",
    "\n",
    "print(quadratic_formula_v1(1,8,1))\n",
    "print(quadratic_formula_v1(1,1,1))\n",
    "print(quadratic_formula_v1(0,1,1))"
   ]
  },
  {
   "cell_type": "markdown",
   "id": "5152aa26-57b8-4507-beb3-c45abf7924cf",
   "metadata": {},
   "source": [
    "In this final version of the anonymous function, we add another stacked conditional statement. Now, `0j` is only added to $b$ if the discriminant is indeed negative. This avoids the messiness of having a complex output when the result is only real.\n",
    "\n",
    "But now the code itself is a bit messy and hard to read!"
   ]
  },
  {
   "cell_type": "code",
   "execution_count": 73,
   "id": "39fc052c-2c08-4086-9f83-15abc570aed9",
   "metadata": {},
   "outputs": [
    {
     "name": "stdout",
     "output_type": "stream",
     "text": [
      "(-0.12701665379258298, -7.872983346207417)\n",
      "((-0.5+0.8660254037844386j), (-0.5-0.8660254037844386j))\n",
      "-1.0\n"
     ]
    }
   ],
   "source": [
    "quadratic_formula_v2 = lambda a,b,c: ((-b + np.sqrt(b**2 - 4*a*c))/(2*a),(-b - np.sqrt(b**2 - 4*a*c))/(2*a)) \\\n",
    "                                      if (a != 0) and ((b**2 - 4*a*c) >= 0) \\\n",
    "                                      else ( ((-b + np.sqrt((b + 0j)**2 - 4*a*c))/(2*a),(-b - np.sqrt((b + 0j)**2 - 4*a*c))/(2*a)) \\\n",
    "                                                  if (a != 0) \\\n",
    "                                                  else -c/b \n",
    "                                           )\n",
    "\n",
    "print(quadratic_formula_v2(1,8,1))\n",
    "print(quadratic_formula_v2(1,1,1))\n",
    "print(quadratic_formula_v2(0,1,1))"
   ]
  },
  {
   "cell_type": "markdown",
   "id": "e089adcd-a4f6-452e-b235-a1d778f3a0ec",
   "metadata": {},
   "source": [
    "The quadratic formula is kind of pushing the limits of what is convenient to use an anonymous function for. It is easier to make it readable if declared as a standard function, as seen below."
   ]
  },
  {
   "cell_type": "code",
   "execution_count": 74,
   "id": "1bd4afdd-529f-4d1e-8118-9dd376f5249e",
   "metadata": {},
   "outputs": [
    {
     "name": "stdout",
     "output_type": "stream",
     "text": [
      "(-0.12701665379258298, -7.872983346207417)\n",
      "((-0.5+0.8660254037844386j), (-0.5-0.8660254037844386j))\n",
      "-1.0\n"
     ]
    }
   ],
   "source": [
    "def quadratic_result(a,b,c):\n",
    "    if a == 0:\n",
    "        return -c/b\n",
    "    \n",
    "    discriminant = b**2 - 4*a*c\n",
    "    \n",
    "    if discriminant < 0:\n",
    "        b = b + 0j\n",
    "        discriminant = b**2 - 4*a*c\n",
    "\n",
    "    two_a = 2*a\n",
    "    \n",
    "    negative_b_over_2a = -b/two_a\n",
    "\n",
    "    sqrt_discriminant_over_2a = np.sqrt(discriminant)/two_a\n",
    "    \n",
    "    return (negative_b_over_2a + sqrt_discriminant_over_2a,\n",
    "            negative_b_over_2a - sqrt_discriminant_over_2a\n",
    "           )\n",
    "    \n",
    "print(quadratic_result(1,8,1))\n",
    "print(quadratic_result(1,1,1))\n",
    "print(quadratic_result(0,1,1))"
   ]
  },
  {
   "cell_type": "code",
   "execution_count": null,
   "id": "dab10d56-5621-44f1-9d81-53e471d8d973",
   "metadata": {},
   "outputs": [],
   "source": []
  }
 ],
 "metadata": {
  "kernelspec": {
   "display_name": "Python 3 (ipykernel)",
   "language": "python",
   "name": "python3"
  },
  "language_info": {
   "codemirror_mode": {
    "name": "ipython",
    "version": 3
   },
   "file_extension": ".py",
   "mimetype": "text/x-python",
   "name": "python",
   "nbconvert_exporter": "python",
   "pygments_lexer": "ipython3",
   "version": "3.12.1"
  }
 },
 "nbformat": 4,
 "nbformat_minor": 5
}
