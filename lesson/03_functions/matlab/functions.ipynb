{
 "cells": [
  {
   "cell_type": "markdown",
   "id": "8fe7e815-72af-4dbf-8792-43b6ba8ea7d2",
   "metadata": {},
   "source": [
    "# Functions\n",
    "\n",
    "Functions are a construct used by many programming languages to organize code and promote reusability.\n",
    "\n",
    "\"Organizing code\" means structuring it in a logical way that makes it easier to understand--both for others and for yourself.\n",
    "\n",
    "\"Promoting reusability\" means minimizing the amount of repetitive copy-pasting you have to do!\n",
    "\n",
    "Repetitive copy-pasting is generally bad because\n",
    "  1. It tends to make code longer and harder to read.\n",
    "  2. Each time you copy-paste you usually also have to make some small edits, and therefore to also make some small mistakes/errors!\n",
    "  3. If later you decided whatever you copy-pasted needs to be rewritten/changed, it can be hard to find all instances and update them. If you miss a few, say hello to more errors!\n",
    "\n",
    "\n",
    "## In illustrative example: greeting by name\n",
    "\n",
    "It may help to make \"the point\" of using functions more concrete if we walk through a simple illustrative example.\n",
    "\n",
    "### Iteration 1: 4 names, copy-paste style\n",
    "\n",
    "Consider the following script in which we want to say hello to various people and count the number of letters in their names. "
   ]
  },
  {
   "cell_type": "code",
   "execution_count": 80,
   "id": "32d474eb-3d8b-4e0c-8103-83bbb4ff9e88",
   "metadata": {},
   "outputs": [
    {
     "name": "stdout",
     "output_type": "stream",
     "text": [
      "Hello Julia! The number of letters in your name is 5!\n",
      "Hello Marc! The number of letters in your name is 4!\n",
      "Hello Rania! The number of letters in your name is 5!\n",
      "Hello Winnifred! The number of letters in your name is 9!\n"
     ]
    }
   ],
   "source": [
    "%% Iteration 1: 4 names, copy-paste style\n",
    "\n",
    "curname = 'Julia';\n",
    "disp(['Hello '  curname  '!' ' The number of letters in your name is '  num2str(length(curname))  '!'])\n",
    "\n",
    "curname = 'Marc';\n",
    "disp(['Hello '  curname  '!' ' The number of letters in your name is '  num2str(length(curname))  '!'])\n",
    "\n",
    "curname = 'Rania';\n",
    "disp(['Hello '  curname  '!' ' The number of letters in your name is '  num2str(length(curname))  '!'])\n",
    "\n",
    "curname = 'Winnifred';\n",
    "disp(['Hello '  curname  '!' ' The number of letters in your name is '  num2str(length(curname))  '!'])\n"
   ]
  },
  {
   "cell_type": "markdown",
   "id": "dfcd196d-3d4b-441e-bb27-405819c5c6fa",
   "metadata": {},
   "source": [
    "## Iteration 2: add a name + some functionality, copy-paste style\n",
    "\n",
    "Now suppose we decide need to greet one more person, Gajendran, and that we should also mention the first letter for each person's name.\n",
    "\n",
    "We'll have to copy-paste one more time, and go back and edit each instance."
   ]
  },
  {
   "cell_type": "code",
   "execution_count": 81,
   "id": "f0d52f8a-73d4-4949-9c93-4af0854c977f",
   "metadata": {},
   "outputs": [
    {
     "name": "stdout",
     "output_type": "stream",
     "text": [
      "Hello Julia! The number of letters in your name is 5!\n",
      "Hello Marc! The number of letters in your name is 4, and the first letter of your name is M!\n",
      "Hello Rania! The number of letters in your name is 5!\n",
      "Hello Winnifred! The number of letters in your name is 9, and the first letter of your name is W!\n",
      "Hello Gajendran! The number of letters in your name is 9, and the first letter of your name is G!\n"
     ]
    }
   ],
   "source": [
    "%% Iteration 2: add a name + some functionality, copy-paste style\n",
    "\n",
    "\n",
    "curname = 'Julia';\n",
    "disp(['Hello '  curname  '!' ' The number of letters in your name is '  num2str(length(curname))  '!'])\n",
    "\n",
    "curname = 'Marc';\n",
    "disp(['Hello '  curname  '!' ' The number of letters in your name is '  num2str(length(curname))  ', and the first letter of your name is ' curname(1) '!'])\n",
    "\n",
    "curname = 'Rania';\n",
    "disp(['Hello '  curname  '!' ' The number of letters in your name is '  num2str(length(curname))  '!'])\n",
    "\n",
    "curname = 'Winnifred';\n",
    "disp(['Hello '  curname  '!' ' The number of letters in your name is '  num2str(length(curname))  ', and the first letter of your name is ' curname(1) '!'])\n",
    "\n",
    "curname = 'Gajendran';\n",
    "disp(['Hello '  curname  '!' ' The number of letters in your name is '  num2str(length(curname))  ', and the first letter of your name is ' curname(1) '!'])\n",
    "\n",
    "\n"
   ]
  },
  {
   "cell_type": "markdown",
   "id": "e23f7e1a-96fd-414b-92b3-62b0463fb449",
   "metadata": {},
   "source": [
    "Two things:\n",
    " 1. Now our code is getting long and messy-looking.\n",
    " 2. We forgot to update a couple of lines, so now our output is inconsistent. Once we notice the mistakes, we'll have to go back and make the additional edits.\n",
    "\n",
    "## Iteration 3: wrap the repeated part in a function\n",
    "\n",
    "Now, imagine we define a greeting function."
   ]
  },
  {
   "cell_type": "code",
   "execution_count": 83,
   "id": "c03ba740-888b-4de9-8136-d8bbed92ed65",
   "metadata": {},
   "outputs": [
    {
     "name": "stdout",
     "output_type": "stream",
     "text": [
      "Hello Julia! The number of letters in your name is 5!\n",
      "Hello Marc! The number of letters in your name is 4!\n",
      "Hello Rania! The number of letters in your name is 5!\n",
      "Hello Winnifred! The number of letters in your name is 9!\n"
     ]
    }
   ],
   "source": [
    "%% Iteration 3: wrap the repeated part in a function\n",
    "\n",
    "\n",
    "function chararray_out = greet_the_people(their_name)\n",
    "    chararray_out = ['Hello '  their_name  '!'  ' The number of letters in your name is '  num2str(length(their_name))  '!'];\n",
    "end\n",
    "\n",
    "curname = 'Julia';\n",
    "disp(greet_the_people(curname))\n",
    "\n",
    "curname = 'Marc';\n",
    "disp(greet_the_people(curname))\n",
    "\n",
    "curname = 'Rania';\n",
    "disp(greet_the_people(curname))\n",
    "\n",
    "curname = 'Winnifred';\n",
    "disp(greet_the_people(curname))\n"
   ]
  },
  {
   "cell_type": "markdown",
   "id": "36425e65-3a83-4bcc-8f96-ce9268100a05",
   "metadata": {},
   "source": [
    "## Iteration 4: wrap the repeated part in a function, loop over list of inputs\n",
    "\n",
    "That's a little bit more succinct. We can make it even better by organizing the names into a list, and looping through them."
   ]
  },
  {
   "cell_type": "code",
   "execution_count": 89,
   "id": "c21fa09b-ea33-4b3e-9f0a-babe1d0a18e9",
   "metadata": {},
   "outputs": [
    {
     "name": "stdout",
     "output_type": "stream",
     "text": [
      "Hello Julia! The number of letters in your name is 5!\n",
      "Hello Marc! The number of letters in your name is 4!\n",
      "Hello Rania! The number of letters in your name is 5!\n",
      "Hello Winnifred! The number of letters in your name is 9!\n"
     ]
    }
   ],
   "source": [
    "%% Iteration 4: wrap the repeated part in a function, loop over list of inputs\n",
    "\n",
    "function chararray_out = greet_the_people(their_name)\n",
    "    chararray_out = ['Hello '  their_name  '!'  ' The number of letters in your name is '  num2str(length(their_name))  '!'];\n",
    "end\n",
    "\n",
    "people_to_greet = {'Julia','Marc','Rania','Winnifred'};\n",
    "\n",
    "for curind = 1:length(people_to_greet)\n",
    "    curname = people_to_greet{curind};\n",
    "    disp(greet_the_people(curname))\n",
    "end\n",
    "\n"
   ]
  },
  {
   "cell_type": "markdown",
   "id": "dfcf8784-48f7-4ca2-ae63-1058a2c3e8d3",
   "metadata": {},
   "source": [
    "## Iteration 5: break function into sub-functions representing logically distinct steps\n",
    "\n",
    "We could break it down even further by splitting our greeting function into two parts: the initial hello, then the facts about the name, as shown below."
   ]
  },
  {
   "cell_type": "code",
   "execution_count": 93,
   "id": "8d8ae1a3-ba16-47ad-b60f-ff82883b5a56",
   "metadata": {},
   "outputs": [
    {
     "name": "stdout",
     "output_type": "stream",
     "text": [
      "Hello Julia! The number of letters in your name is 5!J\n",
      "Hello Marc! The number of letters in your name is 4!M\n",
      "Hello Rania! The number of letters in your name is 5!R\n",
      "Hello Winnifred! The number of letters in your name is 9!W\n"
     ]
    }
   ],
   "source": [
    "%% Iteration 5: break function into sub-functions representing logically distinct steps\n",
    "\n",
    "function chararray_out = just_say_hello(thename)\n",
    "    chararray_out = ['Hello '  thename  '!'];\n",
    "end\n",
    "\n",
    "function chararray_out = name_fun_facts(thename)\n",
    "    chararray_out = ['The number of letters in your name is '  num2str(length(thename))  '!'];\n",
    "end\n",
    "\n",
    "function chararray_out = greet_the_people(their_name)\n",
    "    chararray_out = [just_say_hello(their_name)  ' '  name_fun_facts(their_name)];\n",
    "end\n",
    "\n",
    "\n",
    "\n",
    "people_to_greet = {'Julia','Marc','Rania','Winnifred'};\n",
    "\n",
    "for curind = 1:length(people_to_greet)\n",
    "    curname = people_to_greet{curind};\n",
    "    disp(greet_the_people(curname))\n",
    "end\n",
    "\n"
   ]
  },
  {
   "cell_type": "markdown",
   "id": "5a3e4846-9a3f-4fb8-a3d8-15422eac0828",
   "metadata": {},
   "source": [
    "## Iteration 6: modify a substep, add many more inputs\n",
    "\n",
    "Now, when we want to add an additional name, we just have to add the name to our list. And when we want to change the kinds of fun facts we output, we just have to edit one small piece of code which is clearly separated according to its function. Let's add the bit about the first letter, and 5 more names."
   ]
  },
  {
   "cell_type": "code",
   "execution_count": 96,
   "id": "74c3e302-d6ff-44cc-bf30-2ec78107da4d",
   "metadata": {},
   "outputs": [
    {
     "name": "stdout",
     "output_type": "stream",
     "text": [
      "Hello Julia! The number of letters in your name is 5, and the first letter of your name is J!\n",
      "Hello Marc! The number of letters in your name is 4, and the first letter of your name is M!\n",
      "Hello Rania! The number of letters in your name is 5, and the first letter of your name is R!\n",
      "Hello Winnifred! The number of letters in your name is 9, and the first letter of your name is W!\n",
      "Hello Gajendran! The number of letters in your name is 9, and the first letter of your name is G!\n",
      "Hello Tongbin! The number of letters in your name is 7, and the first letter of your name is T!\n",
      "Hello Uyen! The number of letters in your name is 4, and the first letter of your name is U!\n",
      "Hello Joe! The number of letters in your name is 3, and the first letter of your name is J!\n",
      "Hello Malcolm! The number of letters in your name is 7, and the first letter of your name is M!\n"
     ]
    }
   ],
   "source": [
    "%% Iteration 6: modify a substep, add many more inputs\n",
    "\n",
    "function chararray_out = just_say_hello(thename)\n",
    "    chararray_out = ['Hello '  thename  '!'];\n",
    "end\n",
    "\n",
    "function chararray_out = name_fun_facts(thename)\n",
    "    chararray_out = ['The number of letters in your name is '  num2str(length(thename))  ', and the first letter of your name is '  thename(1)  '!'];\n",
    "end\n",
    "\n",
    "function chararray_out = greet_the_people(their_name)\n",
    "    chararray_out = [just_say_hello(their_name)  ' '  name_fun_facts(their_name)];\n",
    "end\n",
    "\n",
    "\n",
    "people_to_greet = {'Julia','Marc','Rania','Winnifred',...\n",
    "                    'Gajendran','Tongbin','Uyen','Joe','Malcolm'};\n",
    "\n",
    "for curind = 1:length(people_to_greet)\n",
    "    curname = people_to_greet{curind};\n",
    "    disp(greet_the_people(curname))\n",
    "end\n",
    "\n"
   ]
  },
  {
   "cell_type": "markdown",
   "id": "c238e449-b5ec-47b6-963c-41f122e682a2",
   "metadata": {},
   "source": [
    "### Name-greeting example: in conclusion\n",
    "\n",
    "See how this last code example remains compact, even though we've more than doubled the volume of output? And we were able to correctly update all of our output by only making a change in 1 part of the code.\n",
    "\n",
    "Next, if we decided to be grammatically correct and add a comma after \"Hello\", imagine how easy it would be! We'd only have to add a single character in the right place."
   ]
  },
  {
   "cell_type": "markdown",
   "id": "35572774-34f7-4615-a938-542bb7f6d582",
   "metadata": {},
   "source": [
    "## Functions: a more general overview\n",
    "\n",
    "The three key components of a function in any programming language are **input values** (also called **arguments**), **output values** (also called **return values**), and **other actions** (my own terminology) not directly related to producing the output values/return values. It is possible for one or more of these elements to be blank/an empty set: you can write a function with no inputs, or no outputs, or no important actions other than the outputs it provides.\n",
    "\n",
    "An example of a function with all three elements, declared in the standard way, is as follows:\n",
    "\n"
   ]
  },
  {
   "cell_type": "code",
   "execution_count": 101,
   "id": "5f8c765b-c5a5-46f8-8369-1a107b844003",
   "metadata": {},
   "outputs": [
    {
     "name": "stdout",
     "output_type": "stream",
     "text": [
      "3 plus three is 6\n",
      "     6\n",
      "\n"
     ]
    }
   ],
   "source": [
    "function an_output = a_function(an_input)\n",
    "    %% some actions to produce the output\n",
    "    an_output = an_input + 3;\n",
    "\n",
    "    %% we can call the next line \"other actions\" because it's not directly related to the output\n",
    "    disp([num2str(an_input)  ' plus three is '  num2str(an_output)])\n",
    "end\n",
    "\n",
    "three_plus_three = a_function(3);\n",
    "\n",
    "disp(three_plus_three)"
   ]
  },
  {
   "cell_type": "markdown",
   "id": "78b6800d-7d36-4549-bfdb-f16092c52c99",
   "metadata": {},
   "source": [
    "A function with no inputs and no other actions:"
   ]
  },
  {
   "cell_type": "code",
   "execution_count": 104,
   "id": "cc3dd3a5-da16-4b62-bb14-d370b08a944e",
   "metadata": {},
   "outputs": [
    {
     "name": "stdout",
     "output_type": "stream",
     "text": [
      "    3.1416\n",
      "\n"
     ]
    }
   ],
   "source": [
    "function five_decimals_of_pi = give_me_pi_to5decimals()\n",
    "    five_decimals_of_pi = 3.14159;\n",
    "end\n",
    "\n",
    "disp(give_me_pi_to5decimals())"
   ]
  },
  {
   "cell_type": "markdown",
   "id": "ed2b2ad0-a6a4-4330-aa8f-452305d0f0f8",
   "metadata": {},
   "source": [
    "A function with no inputs or outputs, just other actions:"
   ]
  },
  {
   "cell_type": "code",
   "execution_count": 105,
   "id": "b0a1e26e-31c3-46ab-8b61-08c7f6873da7",
   "metadata": {},
   "outputs": [
    {
     "name": "stdout",
     "output_type": "stream",
     "text": [
      "Hello world!\n"
     ]
    }
   ],
   "source": [
    "function helloworld\n",
    "    disp('Hello world!')\n",
    "end\n",
    "\n",
    "helloworld()"
   ]
  },
  {
   "cell_type": "markdown",
   "id": "f1c7a0ec-d995-4733-8f02-88d5788beca3",
   "metadata": {},
   "source": [
    "## Keyword arguments\n",
    "\n",
    "Matlab allows the definition of \"named\" or \"keyword\" arguments. These arguments have a default value which they will be take if no other value is supplied. To set a different value for a keyword argument, you should name the argument.\n",
    "\n",
    "The `arguments` keyword used below was added to Matlab in 2021. Before that, it was a little bit more complicated to declare arguments that had a default value.\n",
    "\n",
    "In the example below, you can choose how many digits of pi to return, up to five. Default choice is five.\n",
    "\n",
    "We also specify that the function should raise an error if more than 5 digits are chosen."
   ]
  },
  {
   "cell_type": "code",
   "execution_count": 114,
   "id": "185d711b-87cc-4a25-ab3e-48e4c9fe885e",
   "metadata": {},
   "outputs": [
    {
     "name": "stdout",
     "output_type": "stream",
     "text": [
      "    3.1416\n",
      "\n",
      "    3.1410\n",
      "\n",
      "    3.1000\n",
      "\n"
     ]
    },
    {
     "name": "stderr",
     "output_type": "stream",
     "text": [
      "Error using Notebook>give_me_pi_to5decimals (line 6)\n",
      "We only know the first five digits!"
     ]
    }
   ],
   "source": [
    "function approx_pi = give_me_pi_to5decimals(kwargsin)\n",
    "    arguments\n",
    "        kwargsin.ndec = 5\n",
    "    end\n",
    "    if kwargsin.ndec > 5\n",
    "        error(\"We only know the first five digits!\")\n",
    "    end\n",
    "    firstfive = '14159';\n",
    "    approx_pi = str2num(['3.'  firstfive(1:kwargsin.ndec)]);\n",
    "end\n",
    "\n",
    "disp(give_me_pi_to5decimals())\n",
    "disp(give_me_pi_to5decimals('ndec',3))\n",
    "disp(give_me_pi_to5decimals('ndec',1))\n",
    "disp(give_me_pi_to5decimals('ndec',9))"
   ]
  },
  {
   "cell_type": "markdown",
   "id": "e54f17b4-5ae9-4a10-a1bb-19b3dfcf21b7",
   "metadata": {},
   "source": [
    "## Example: a function with several inputs and several outputs\n",
    "\n",
    "This function will brute-force calculate the sum of a convergent geometric series."
   ]
  },
  {
   "cell_type": "code",
   "execution_count": 3,
   "id": "32feda93-9b55-406d-bd94-4b66d7b8c8ec",
   "metadata": {},
   "outputs": [
    {
     "name": "stdout",
     "output_type": "stream",
     "text": [
      "Sum calculated as 5 after 166 iterations.\n"
     ]
    }
   ],
   "source": [
    "function [the_sum,its] = sum_convergent_geometric_series(a,kwargsin)\n",
    "    arguments\n",
    "        a;\n",
    "        kwargsin.tol=1e-16;\n",
    "        kwargsin.maxits=10000;\n",
    "    end\n",
    "    \n",
    "    if abs(a) >= 1\n",
    "        error('Absolute value greater than 1--will not converge!')\n",
    "    end\n",
    "    \n",
    "    its = 0;\n",
    "    cur_term = a^0;\n",
    "    the_sum = 0;\n",
    "    \n",
    "    while (abs(cur_term) > kwargsin.tol) && (its < kwargsin.maxits)\n",
    "        the_sum = the_sum + cur_term;\n",
    "        cur_term = cur_term*a;\n",
    "        its = its + 1;\n",
    "    end\n",
    "end\n",
    "\n",
    "[the_sum,total_iterations] = sum_convergent_geometric_series(.8);\n",
    "\n",
    "disp(['Sum calculated as '  num2str(the_sum)  ' after '  num2str(total_iterations)  ' iterations.'])"
   ]
  },
  {
   "cell_type": "markdown",
   "id": "5da941af-d7d6-4a04-beee-93dd893a48d8",
   "metadata": {},
   "source": [
    "## Anonymous or \"lambda\" functions\n",
    "\n",
    "Like some other languages, Matlab allows you to define simplified anonymous functions. In some other languages (not Matlab) these are referred to as \"lambda\" functions. They have more limited functionality, but can be convenient if the calculation to be performed is simple and you don't want to clutter your code with another full standard function definition.\n",
    "\n",
    "The first example below is very simple."
   ]
  },
  {
   "cell_type": "code",
   "execution_count": 6,
   "id": "c1a05da0-abb0-4ecc-ada9-84bd99f960c9",
   "metadata": {},
   "outputs": [
    {
     "name": "stdout",
     "output_type": "stream",
     "text": [
      "     9\n",
      "\n"
     ]
    }
   ],
   "source": [
    "squarex = @(x) x.^2;\n",
    "\n",
    "disp(squarex(3))\n"
   ]
  },
  {
   "cell_type": "markdown",
   "id": "d8021a94-05f7-4354-8b34-a80f91083fc0",
   "metadata": {},
   "source": [
    "Anonymous functions can have more than one input."
   ]
  },
  {
   "cell_type": "code",
   "execution_count": 8,
   "id": "d8442d06-03a3-4aea-b481-ef838145a454",
   "metadata": {},
   "outputs": [
    {
     "name": "stdout",
     "output_type": "stream",
     "text": [
      "    78\n",
      "\n"
     ]
    }
   ],
   "source": [
    "\n",
    "a_polynomial_of_x_and_y = @(x,y) 2*x.^2 + 3.*x.*y + 4*y + 8;\n",
    "\n",
    "disp(a_polynomial_of_x_and_y(3,4))\n"
   ]
  },
  {
   "cell_type": "markdown",
   "id": "f449b61c-16f5-483c-b795-2d1b453b387f",
   "metadata": {},
   "source": [
    "## Example: 3 ways to do the quadratic formula\n",
    "\n",
    "As seen in the implementation of the quadratic formula below, anonymous functions can also have multiple outputs wrapped within a single list or tuple.\n",
    "\n",
    "The first version below will provide both the \"plus\" and the \"minus\" solutions for the non-degenerate case. Notice that it is not able to handle cases where the quadratic term equals 0.\n"
   ]
  },
  {
   "cell_type": "code",
   "execution_count": 11,
   "id": "412acd62-31a2-4366-bf39-d81804093eec",
   "metadata": {},
   "outputs": [
    {
     "name": "stdout",
     "output_type": "stream",
     "text": [
      "   -0.1270   -7.8730\n",
      "\n",
      "  -0.5000 + 0.8660i  -0.5000 - 0.8660i\n",
      "\n",
      "   NaN  -Inf\n",
      "\n"
     ]
    }
   ],
   "source": [
    "quadratic_formula_v0 = @(a,b,c) [(-b + sqrt(b^2 - 4*a*c))/(2*a),(-b - sqrt(b^2 - 4*a*c))/(2*a)];\n",
    "\n",
    "\n",
    "disp(quadratic_formula_v0(1,8,1))\n",
    "disp(quadratic_formula_v0(1,1,1))\n",
    "disp(quadratic_formula_v0(0,1,1))\n"
   ]
  },
  {
   "cell_type": "markdown",
   "id": "04c4dcda-9d35-4d3d-8c26-4c2042947801",
   "metadata": {},
   "source": [
    "In this next version, we will do our best to add an option to handle the \"degenerate\" case where the quadratic term equals zero.\n",
    "\n",
    "Two features of Matlab will make this challenging to do with anonymous functions:\n",
    "  1. No kind of explicit conditional statement is allowed in a Matlab anonymous function.\n",
    "  2. Cell arrays (the only kind of container that can hold the two output options before one is chosen) must be stored to memory before they can be indexed.\n",
    "\n",
    "The solution we come up with has 5 total steps defined as anonymous functions, with the first 4 being combined finally in the last function. It's kind of ugly and unwieldy, but it works."
   ]
  },
  {
   "cell_type": "code",
   "execution_count": 52,
   "id": "9753c9cd-9dfd-418f-8d02-194a24a58c37",
   "metadata": {},
   "outputs": [
    {
     "name": "stdout",
     "output_type": "stream",
     "text": [
      "   -0.1270   -7.8730\n",
      "\n",
      "  -0.5000 + 0.8660i  -0.5000 - 0.8660i\n",
      "\n",
      "    -1\n",
      "\n"
     ]
    }
   ],
   "source": [
    "quadratic_formula_v0 = @(a,b,c) [(-b + sqrt(b^2 - 4*a*c))/(2*a),(-b - sqrt(b^2 - 4*a*c))/(2*a)];\n",
    "degenerate_quadratic = @(b,c) -b/c;\n",
    "quadratic_formula_both_options = @(a,b,c) {quadratic_formula_v0(a,b,c),degenerate_quadratic(b,c)};\n",
    "quadratic_formula_choose_between_options = @(the_options,a) the_options{1 + (a==0)};\n",
    "\n",
    "quadratic_formula_v1 = @(a,b,c) quadratic_formula_choose_between_options(quadratic_formula_both_options(a,b,c),a);\n",
    "\n",
    "\n",
    "disp(quadratic_formula_v1(1,8,1))\n",
    "disp(quadratic_formula_v1(1,1,1))\n",
    "disp(quadratic_formula_v1(0,1,1))"
   ]
  },
  {
   "cell_type": "markdown",
   "id": "4bf0b918-1857-4d08-ad7d-a65b5a47e31e",
   "metadata": {},
   "source": [
    "The quadratic formula is kind of pushing the limits of what is convenient to use an anonymous function for. It is easier to make it readable if declared as a standard function, as seen below."
   ]
  },
  {
   "cell_type": "code",
   "execution_count": 55,
   "id": "a9d1dda5-e5c7-4ae2-839d-aab20b82fcac",
   "metadata": {},
   "outputs": [
    {
     "name": "stdout",
     "output_type": "stream",
     "text": [
      "   -0.1270   -7.8730\n",
      "\n",
      "  -0.5000 + 0.8660i  -0.5000 - 0.8660i\n",
      "\n",
      "    -1\n",
      "\n"
     ]
    }
   ],
   "source": [
    "function the_output = quadratic_result(a,b,c)\n",
    "    if a == 0\n",
    "        the_output = -c/b;\n",
    "    else\n",
    "        discriminant = b.^2 - 4*a*c;\n",
    "    \n",
    "        two_a = 2*a;\n",
    "        \n",
    "        negative_b_over_2a = -b/two_a;\n",
    "    \n",
    "        sqrt_discriminant_over_2a = sqrt(discriminant)/two_a;\n",
    "        \n",
    "        the_output = [negative_b_over_2a + sqrt_discriminant_over_2a,...\n",
    "                      negative_b_over_2a - sqrt_discriminant_over_2a\n",
    "                     ];\n",
    "    end\n",
    "end\n",
    "    \n",
    "disp(quadratic_result(1,8,1))\n",
    "disp(quadratic_result(1,1,1))\n",
    "disp(quadratic_result(0,1,1))"
   ]
  },
  {
   "cell_type": "markdown",
   "id": "84fbfa05-78c8-46fe-9cb9-082a60246c74",
   "metadata": {},
   "source": [
    "## Library function in Matlab are saved to separate files\n",
    "\n",
    "Matlab encourages you to define functions in a file separate from the final script, 1 function per file.\n",
    "\n",
    "If the file is in a directory that is in the Matlab \"path\" or list of directories it knows to search in, and it starts with a function definition, then Matlab will find that function at runtime and allow you to use it.\n",
    "\n",
    "In case there is more than one function found with the same name, Matlab has some rules for choosing which one has precedence, but it is not important for us to go into those here and now.\n",
    "\n",
    "### Matlab functions in a Jupyter notebook\n",
    "\n",
    "Using Python in a Jupyter notebook, if you define a function in one cell it gets stored to working memory and you can afterwards call it anywhere in the notebook. This mimics the behavior of a Python script, where if you define (or import) a function it is available to be used later in the script.\n",
    "\n",
    "In Matlab, on the other hand, any function you define in one cell will only be available for use in the same cell.\n",
    "\n",
    "To get around that, you can use Jupyter \"cell magic\" `%%file filename.m` to save the function to a file that Matlab can recognize. Then as long as the place you save that file is in the Matlab path, you'll be able to use that function in the same notebook just as if you were working in Python.\n",
    "\n",
    "Because of the way Matlab is integrated with Jupyter, making sure even the current working directory is in the Matlab path can be a tiny bit tricky. The code contained in the following cell should do the trick 99.9% of the time in the context of this course."
   ]
  },
  {
   "cell_type": "code",
   "execution_count": 58,
   "id": "077c6755-c072-496e-b888-51dc80aa468f",
   "metadata": {},
   "outputs": [],
   "source": [
    "%%% Find root directory and add it and all subfolders to Matlab path\n",
    "%%%\n",
    "%%% Because Jupyter Matlab kernel workspace is shared between all Jupyter instances the working directory may \"drift\" away from location of notebook\n",
    "%%% This code will solve that problem, for notebooks that are in some folder under the root folder `econphd-codecamp`\n",
    "\n",
    "current_dir_elements = strsplit(pwd,filesep);\n",
    "root_dir = strjoin({current_dir_elements{1:find(strcmp(current_dir_elements,'econphd-codecamp'))}},filesep);\n",
    "addpath(genpath(root_dir))"
   ]
  },
  {
   "cell_type": "markdown",
   "id": "d6404b70-2866-4c5c-b8d8-52819b78aecb",
   "metadata": {},
   "source": [
    "### Testing out \"library\" functions to be used in notebook\n",
    "\n",
    "After running the snippet of code in the cell above, let's try it out with the two test functions defined below.\n",
    "\n",
    "Later, we'll run them each from a separate cell from the ones they were defined in.\n",
    "\n",
    "If they work, then our system set-up has been successful."
   ]
  },
  {
   "cell_type": "code",
   "execution_count": 62,
   "id": "c39049be-db06-495d-9691-85ce63a2562a",
   "metadata": {},
   "outputs": [
    {
     "data": {
      "text/html": [
       "<html><body><pre>File helloworld.m created successfully.</pre></body></html>"
      ],
      "text/plain": [
       "File helloworld.m created successfully."
      ]
     },
     "execution_count": 62,
     "metadata": {},
     "output_type": "execute_result"
    }
   ],
   "source": [
    "%%file helloworld.m\n",
    "function helloworld\n",
    "    disp(\"Hello world\")\n",
    "end\n"
   ]
  },
  {
   "cell_type": "code",
   "execution_count": 60,
   "id": "62909842-79f8-4697-a74c-62df5605b29c",
   "metadata": {},
   "outputs": [
    {
     "data": {
      "text/html": [
       "<html><body><pre>File testfun.m created successfully.</pre></body></html>"
      ],
      "text/plain": [
       "File testfun.m created successfully."
      ]
     },
     "execution_count": 60,
     "metadata": {},
     "output_type": "execute_result"
    }
   ],
   "source": [
    "%%file testfun.m\n",
    "function y = testfun(x)\n",
    "    y = x.^2 + 3;\n",
    "end\n"
   ]
  },
  {
   "cell_type": "code",
   "execution_count": 67,
   "id": "12c5dbb0-fa8f-49d7-8c9d-b06375c250ad",
   "metadata": {},
   "outputs": [
    {
     "name": "stdout",
     "output_type": "stream",
     "text": [
      "Hello world\n",
      "    12\n",
      "\n"
     ]
    }
   ],
   "source": [
    "helloworld()\n",
    "\n",
    "disp(testfun(3))"
   ]
  },
  {
   "cell_type": "code",
   "execution_count": null,
   "id": "b5647b90-7bd4-41e1-ae94-d97a5bd263bd",
   "metadata": {},
   "outputs": [],
   "source": []
  }
 ],
 "metadata": {
  "kernelspec": {
   "display_name": "MATLAB Kernel",
   "language": "matlab",
   "name": "jupyter_matlab_kernel"
  },
  "language_info": {
   "file_extension": ".m",
   "mimetype": "text/x-matlab",
   "name": "matlab"
  }
 },
 "nbformat": 4,
 "nbformat_minor": 5
}
