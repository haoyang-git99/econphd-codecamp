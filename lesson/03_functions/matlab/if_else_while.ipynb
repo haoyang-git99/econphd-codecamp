{
 "cells": [
  {
   "cell_type": "markdown",
   "id": "bcf2d823-5dbf-47a3-b45b-9a75022d5afb",
   "metadata": {},
   "source": [
    "# Conditional statements and flow control: `if`, `else`, `while`\n",
    "\n",
    "Conditional statements are an important part of just about every programming language.\n",
    "\n",
    "In Matlab, they take the form\n",
    "\n",
    "```\n",
    "<keyword> <condition>\n",
    "    <some code to evaluate>\n",
    "end\n",
    "```\n",
    "\n",
    "Note the closing `end` statement.\n",
    "\n",
    "A small example is contained in the next cell. `if` is the keyword, `water == 'wet'` is the condition, and the code to evaluate is `disp('duck')`."
   ]
  },
  {
   "cell_type": "code",
   "execution_count": 2,
   "id": "e2392b14-55b7-4db6-b0eb-837b80c67367",
   "metadata": {},
   "outputs": [
    {
     "name": "stdout",
     "output_type": "stream",
     "text": [
      "duck\n"
     ]
    }
   ],
   "source": [
    "water = 'wet';\n",
    "\n",
    "if water == 'wet'\n",
    "    disp('duck')\n",
    "end\n",
    "\n"
   ]
  },
  {
   "cell_type": "markdown",
   "id": "16a3173e-2a99-44ae-a154-5c9ef1dbe2af",
   "metadata": {},
   "source": [
    "## `else`\n",
    "\n",
    "The keyword `else` follows a conditional statement declared with `if` and provides an alternative action in case the condition is false. For example:"
   ]
  },
  {
   "cell_type": "code",
   "execution_count": 2,
   "id": "c39f3324-938d-44e2-bf96-0273229dfccf",
   "metadata": {},
   "outputs": [
    {
     "name": "stdout",
     "output_type": "stream",
     "text": [
      "what?\n"
     ]
    }
   ],
   "source": [
    "water = 'dry';\n",
    "\n",
    "if water == 'wet'\n",
    "    disp('duck')\n",
    "else\n",
    "    disp('what?')\n",
    "end\n",
    "\n"
   ]
  },
  {
   "cell_type": "markdown",
   "id": "4c91d9a8-f896-4e7a-bc69-30720baa2d11",
   "metadata": {},
   "source": [
    "## `elseif`\n",
    "\n",
    "To simplify what otherwise might become unwieldy branching trees of if/else statements, most modern languages have an `elseif` keyword.\n",
    "\n",
    "In the following cell, we'll implement the same logic, first using nested statements, then using `elseif`.\n"
   ]
  },
  {
   "cell_type": "code",
   "execution_count": 9,
   "id": "ce469c19-1c8a-4efb-9a73-196f0dcfcb84",
   "metadata": {},
   "outputs": [
    {
     "name": "stdout",
     "output_type": "stream",
     "text": [
      "Great! An A!\n",
      "Great! An A!\n"
     ]
    }
   ],
   "source": [
    "score = 95;\n",
    "\n",
    "%%% Structure one, with nesting and branching\n",
    "if score >= 90\n",
    "    if score >= 97\n",
    "        disp('Wow! An A+!')\n",
    "    else\n",
    "        if score >= 93\n",
    "            disp('Great! An A!')\n",
    "        else\n",
    "            disp('Good! An A-!')\n",
    "        end\n",
    "    end\n",
    "else\n",
    "    if score >= 80\n",
    "        if score >= 87\n",
    "            disp('Nice! A B+!')\n",
    "        else\n",
    "            if score >= 83\n",
    "                disp('Okay. A B!')\n",
    "            else\n",
    "                disp('Well, thats not so bad. A B-!')\n",
    "            end\n",
    "        end\n",
    "    else\n",
    "        if score >= 70\n",
    "            if score >= 77\n",
    "                disp('So close! A C+!')\n",
    "            else\n",
    "                if score >= 73\n",
    "                    disp('Hmm. A C.')\n",
    "                else\n",
    "                    disp('Yikes! A C-!')\n",
    "                end\n",
    "            end\n",
    "        else\n",
    "            if score >= 60\n",
    "                disp('Ouch!')\n",
    "            else\n",
    "                disp('Too bad! Try again next time!')\n",
    "            end\n",
    "        end\n",
    "    end\n",
    "end\n",
    "\n",
    "%%% Structure two. We actually still do a bit of nesting, just for fun. But with `elif`, branching is minimized.\n",
    "if score >= 90\n",
    "    if score >= 97\n",
    "        disp('Wow! An A+!')\n",
    "    elseif score >= 93\n",
    "        disp('Great! An A!')\n",
    "    else\n",
    "        disp('Good! An A-!')\n",
    "    end\n",
    "elseif score >= 80\n",
    "    if score >= 87\n",
    "        disp('Nice! A B+!')\n",
    "    elseif score >= 83\n",
    "        disp('Okay. A B!')\n",
    "    else\n",
    "        disp(\"Well, that's not so bad. A B-!\")\n",
    "    end\n",
    "elseif score >= 70\n",
    "    if score >= 77\n",
    "        disp('So close! A C+!')\n",
    "    elseif score >= 73\n",
    "        disp('Hmm. A C.')\n",
    "    else\n",
    "        disp('Yikes! A C-!')\n",
    "    end\n",
    "elseif score >= 60\n",
    "    disp('Ouch!')\n",
    "else\n",
    "    disp('Too bad! Try again next time!')\n",
    "end"
   ]
  },
  {
   "cell_type": "markdown",
   "id": "6888fb15-6e0f-4b5e-8b29-c82be455d1a4",
   "metadata": {},
   "source": [
    "## `while` loops\n",
    "\n",
    "A \"while\" loop, instead of terminating after iterating through a certain number of items, terminates according to a conditional statement.\n",
    "\n",
    "The following cell contains an example of a `for` loop and a `while` loop that both do the same thing. The `while` loop will keep executing until the conditional statement turns up false."
   ]
  },
  {
   "cell_type": "code",
   "execution_count": 11,
   "id": "19cb63ae-c81f-4433-af84-5f0ebd9c95ec",
   "metadata": {},
   "outputs": [
    {
     "name": "stdout",
     "output_type": "stream",
     "text": [
      "     0\n",
      "\n",
      "     1\n",
      "\n",
      "     2\n",
      "\n",
      "     0\n",
      "\n",
      "     1\n",
      "\n",
      "     2\n",
      "\n"
     ]
    }
   ],
   "source": [
    "%%% with `for`\n",
    "for i = 0:2\n",
    "    disp(i)\n",
    "end\n",
    "\n",
    "%%% with `while`\n",
    "i = 0;\n",
    "while i < 3\n",
    "    disp(i)\n",
    "    i = i + 1;\n",
    "end"
   ]
  },
  {
   "cell_type": "markdown",
   "id": "96b4faf7-af57-4df1-9ef6-14defd262e74",
   "metadata": {},
   "source": [
    "### `break`\n",
    "\n",
    "Both `for` and `while` loops can be interrupted with the `break` command.\n",
    "\n",
    "Can you figure out the simple reason why the `for` loop needs to break for `i > 2` but the `while` loop needs to break for `i > 3` in order to have the same behavior in the implementation below?"
   ]
  },
  {
   "cell_type": "code",
   "execution_count": 14,
   "id": "b83e93bb-0c98-4d5c-84e2-a852a7130290",
   "metadata": {},
   "outputs": [
    {
     "name": "stdout",
     "output_type": "stream",
     "text": [
      "     0\n",
      "\n",
      "     1\n",
      "\n",
      "     2\n",
      "\n",
      "     3\n",
      "\n",
      "     0\n",
      "\n",
      "     1\n",
      "\n",
      "     2\n",
      "\n",
      "     3\n",
      "\n"
     ]
    }
   ],
   "source": [
    "%%% with `for`\n",
    "for i = 0:9999999\n",
    "    disp(i)\n",
    "    if i > 2\n",
    "        break\n",
    "    end\n",
    "end\n",
    "\n",
    "\n",
    "%%% with `while`\n",
    "i = 0;\n",
    "while i < 9999999\n",
    "    disp(i)\n",
    "    i = i + 1;\n",
    "    if i > 3\n",
    "        break\n",
    "    end\n",
    "end"
   ]
  },
  {
   "cell_type": "code",
   "execution_count": null,
   "id": "fe0c6e76-60df-46bb-a1e0-662db5256bc6",
   "metadata": {},
   "outputs": [],
   "source": []
  }
 ],
 "metadata": {
  "kernelspec": {
   "display_name": "MATLAB Kernel",
   "language": "matlab",
   "name": "jupyter_matlab_kernel"
  },
  "language_info": {
   "file_extension": ".m",
   "mimetype": "text/x-matlab",
   "name": "matlab"
  }
 },
 "nbformat": 4,
 "nbformat_minor": 5
}
