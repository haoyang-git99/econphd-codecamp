{
 "cells": [
  {
   "cell_type": "markdown",
   "id": "06122bdc-8505-4b7c-9e55-06e75bcbadeb",
   "metadata": {},
   "source": [
    "# Practical Exercise: Taylor Series\n",
    "\n",
    "Implement the following steps as best you can:\n",
    " 1. Write a function to calculate factorials (Yes, there are built-in options. Make your own.)\n",
    " 2. Write a function to compute a term of a Taylor series of a given degree, at a given point, for a vector of $x$ inputs. It should take another function which calculates the appropriate derivative as an input.\n",
    " 3. Pick a function to approximate up to at least the 3rd degree. Write functions to compute values of that function, and of at least its first, second, and third derivatives.\n",
    " 4. Write a function (or functions) which will combine elements from the previous steps to compute Taylor approximations of the 1st, 2nd, and 3rd degree for your chosen function.\n",
    " 5. Plot your chosen function plus it's 1st, 2nd, and 3rd order approximations for an appropriate range of input values and comment on goodness of fit."
   ]
  },
  {
   "cell_type": "code",
   "execution_count": null,
   "id": "aa5f7fb2-a85c-4475-913a-78b7b89b07b8",
   "metadata": {},
   "outputs": [],
   "source": []
  }
 ],
 "metadata": {
  "kernelspec": {
   "display_name": "MATLAB Kernel",
   "language": "matlab",
   "name": "jupyter_matlab_kernel"
  },
  "language_info": {
   "file_extension": ".m",
   "mimetype": "text/x-matlab",
   "name": "matlab"
  }
 },
 "nbformat": 4,
 "nbformat_minor": 5
}
