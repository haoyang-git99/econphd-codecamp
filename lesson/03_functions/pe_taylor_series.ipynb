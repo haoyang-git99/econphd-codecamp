{
 "cells": [
  {
   "cell_type": "markdown",
   "id": "354b7a71-7b45-47a9-89af-c69afc157806",
   "metadata": {},
   "source": [
    "# Practical Exercise: Taylor Series\n",
    "\n",
    "Implement the following steps as best you can:\n",
    " 1. Write a function to calculate factorials (Yes, there are built-in options. Make your own.)\n",
    " 2. Write a function to compute a term of a Taylor series of a given degree, at a given point, for a vector of $x$ inputs. It should take another function which calculates the appropriate derivative as an input.\n",
    " 3. Pick a function to approximate up to at least the 3rd degree. Write functions to compute values of that function, and of at least its first, second, and third derivatives.\n",
    " 4. Write a function (or functions) which will combine elements from the previous steps to compute Taylor approximations of the 1st, 2nd, and 3rd degree for your chosen function.\n",
    " 5. Plot your chosen function plus it's 1st, 2nd, and 3rd order approximations for an appropriate range of input values and comment on goodness of fit."
   ]
  },
  {
   "cell_type": "code",
   "execution_count": null,
   "id": "6407c444-8f5c-4269-8564-7ad5df0885bf",
   "metadata": {},
   "outputs": [],
   "source": []
  }
 ],
 "metadata": {
  "kernelspec": {
   "display_name": "Python 3 (ipykernel)",
   "language": "python",
   "name": "python3"
  },
  "language_info": {
   "codemirror_mode": {
    "name": "ipython",
    "version": 3
   },
   "file_extension": ".py",
   "mimetype": "text/x-python",
   "name": "python",
   "nbconvert_exporter": "python",
   "pygments_lexer": "ipython3",
   "version": "3.12.1"
  }
 },
 "nbformat": 4,
 "nbformat_minor": 5
}
