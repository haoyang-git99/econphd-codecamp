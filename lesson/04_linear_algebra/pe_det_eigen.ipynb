{
 "cells": [
  {
   "cell_type": "markdown",
   "id": "3df5e8f9-8629-4729-a84c-1c30ffce4218",
   "metadata": {},
   "source": [
    "# Practical Exercise: determinants and eigenvalues\n",
    "\n",
    "Complete the following as best you can:\n",
    "  1. Write a function which will compute the determinant of an arbitrary 2$\\times$2 matrix. Check your result using NumPy's determinant function.\n",
    "  2. Write a function which will compute the eigenvalues of an arbitrary 2$\\times$2 matrix. Check your result using NumPy's eigenvalue function.\n",
    "\n",
    "\n",
    "***Bonus***: Write a function which will compute the eigenvectors of an arbitrary 2$\\times$2 matrix."
   ]
  },
  {
   "cell_type": "code",
   "execution_count": null,
   "id": "f6a508e9-a215-4210-8faf-3d9bc07e724e",
   "metadata": {},
   "outputs": [],
   "source": []
  }
 ],
 "metadata": {
  "kernelspec": {
   "display_name": "Python 3 (ipykernel)",
   "language": "python",
   "name": "python3"
  },
  "language_info": {
   "codemirror_mode": {
    "name": "ipython",
    "version": 3
   },
   "file_extension": ".py",
   "mimetype": "text/x-python",
   "name": "python",
   "nbconvert_exporter": "python",
   "pygments_lexer": "ipython3",
   "version": "3.12.1"
  }
 },
 "nbformat": 4,
 "nbformat_minor": 5
}
