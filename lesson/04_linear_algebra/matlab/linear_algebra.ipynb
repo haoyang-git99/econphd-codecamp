{
 "cells": [
  {
   "cell_type": "markdown",
   "id": "17e8ba4c-2516-4a56-b060-9ade1494d2a3",
   "metadata": {},
   "source": [
    "# Linear Algebra\n",
    "\n",
    "Matlab was originally designed and built primarily to perform linear Algebra calculations. That's where the \"Mat\" in \"Matlab\" comes from.\n",
    "\n",
    "Recall that Matlab matrices perform matrix multiplication and powers with the `*` and `^` operators, and elementwise with the `.*` and `.^` operators.\n",
    "\n",
    "Matrices can be transposed using the `'` operator or the `tranpose()` built-in function.\n",
    "\n",
    "For example:"
   ]
  },
  {
   "cell_type": "code",
   "execution_count": 4,
   "id": "173ed7e8-a62f-41f9-a2f7-1e6e8e3cbc8c",
   "metadata": {},
   "outputs": [
    {
     "name": "stdout",
     "output_type": "stream",
     "text": [
      "     1     2     2\n",
      "     2     3     1\n",
      "     3     1     3\n",
      "\n",
      "     1     2     2\n",
      "     2     3     1\n",
      "     3     1     3\n",
      "\n"
     ]
    }
   ],
   "source": [
    "A = [1,2,3;\n",
    "     2,3,1;\n",
    "     2,1,3];\n",
    "\n",
    "disp(A')\n",
    "\n",
    "disp(transpose(A))"
   ]
  },
  {
   "cell_type": "markdown",
   "id": "30934036-f2a7-4a42-938d-7bfc3c4bd5a3",
   "metadata": {},
   "source": [
    "The determinant can be computed using the `det()` function:"
   ]
  },
  {
   "cell_type": "code",
   "execution_count": 2,
   "id": "fb4cc85b-ac79-4769-bfc4-558e31f10be1",
   "metadata": {},
   "outputs": [
    {
     "data": {
      "text/html": [
       "<html><body><pre>ans = -12</pre></body></html>"
      ],
      "text/plain": [
       "ans = -12"
      ]
     },
     "execution_count": 2,
     "metadata": {},
     "output_type": "execute_result"
    }
   ],
   "source": [
    "det(A)"
   ]
  },
  {
   "cell_type": "markdown",
   "id": "1304c920-bf66-4aac-9cc9-08c1cab393b6",
   "metadata": {},
   "source": [
    "This matrix has a non-zero determinant, which should mean that it's invertible. Let's check:"
   ]
  },
  {
   "cell_type": "code",
   "execution_count": 3,
   "id": "e2dd6414-836e-448c-a180-4a11192e4e3e",
   "metadata": {},
   "outputs": [
    {
     "data": {
      "text/html": [
       "<html><body><pre>ans = 3×3 double\n",
       "   -0.6667    0.2500    0.5833\n",
       "    0.3333    0.2500   -0.4167\n",
       "    0.3333   -0.2500    0.0833\n",
       "</pre></body></html>"
      ],
      "text/plain": [
       "ans = 3×3 double\n",
       "   -0.6667    0.2500    0.5833\n",
       "    0.3333    0.2500   -0.4167\n",
       "    0.3333   -0.2500    0.0833\n"
      ]
     },
     "execution_count": 3,
     "metadata": {},
     "output_type": "execute_result"
    }
   ],
   "source": [
    "A^(-1)"
   ]
  },
  {
   "cell_type": "markdown",
   "id": "8e8f6800-c9ab-436f-9992-137817af65a5",
   "metadata": {},
   "source": [
    "## Solving systems of linear equations\n",
    "\n",
    "Consider the following non-homogeneous system of equations:\n",
    "\n",
    "$$ \\mathbf{A} \\phi = \\mathbf{b},$$\n",
    "\n",
    "where\n",
    "\n",
    "$$\n",
    "\\begin{align}\n",
    "\\underset{3 \\times 3}{\\mathbf{A}} &= \\begin{bmatrix} \n",
    "a_{11} & a_{12} & a_{13} \\\\\n",
    "a_{21} & a_{22} & a_{23} \\\\\n",
    "a_{31} & a_{32} & a_{33} \n",
    "\\end{bmatrix},\\\\\\\\\n",
    "\\underset{3\\times 1}{\\mathbf{b}} &= \\begin{bmatrix} \n",
    "b_{1}  \\\\\n",
    "b_{2}  \\\\\n",
    "b_{3} \n",
    "\\end{bmatrix},\\\\\\\\\n",
    "\\underset{3\\times 1}{\\phi} &= \\begin{bmatrix} \\phi_1 \\\\ \\phi_2 \\\\ \\phi_3 \\end{bmatrix}\n",
    "\\end{align}\n",
    "$$\n",
    "\n",
    "Suppose that the values of the elements of $\\mathbf{A}$ and $\\mathbf{b}$ are given, and you want to solve for $\\phi$.\n",
    "\n",
    "The closed-form characterization of the solution for $\\phi$ is given by:\n",
    "\n",
    "$$ \\begin{align}\\mathbf{A}^{-1} \\mathbf{A} \\phi &= \\mathbf{A}^{-1}\\mathbf{b} \\\\\n",
    "\\\\\n",
    "\\phi &= \\mathbf{A}^{-1}\\mathbf{b}\\end{align}$$\n",
    "\n",
    "There are at least three ways to compute this result:\n",
    "  1. Compute $\\mathbf{A}^{-1}$, then multiply the result by $\\mathbf{b}$.\n",
    "  2. Use a linear equation solver such as `linsolve()`, which will *implicitly* invert $\\mathbf{A}$ as part of the algorithm which produces the solution (but which will only return the solution and not the inverse of $\\mathbf{A}$).\n",
    "  3. Use a linear equation solver such as `mldivide()` or `\\`, which uses a slightly different algorithm to do something very similar to (2).\n",
    "\n",
    "Option (2) or (3) is usually preferred because it is less prone to numerical errors. The reason is that if you compute the inverse separately first, as in Option (1), in some instances there will be substantial numerical errors in the calculations. These errors will then get compounded if you store the values with the errors and then perform a whole new set of calculations for the matrix multiplication.\n",
    "\n",
    "On the other hand, Options (2) and (3) involve a smaller number of calculations overall and do not store the result of the inverse mid-way, and so will often but subject to less numerical error.\n",
    "\n",
    "In many cases where the matrix is not \"ill-conditioned\" and thus calculating the inverse is subject to less numerical error, the three methods will produce nearly identical results.\n",
    "\n",
    "Below we can see an example."
   ]
  },
  {
   "cell_type": "code",
   "execution_count": 13,
   "id": "4decfff1-2d5b-4bee-a5c3-bc841a869cb8",
   "metadata": {},
   "outputs": [
    {
     "name": "stdout",
     "output_type": "stream",
     "text": [
      "    2.0833\n",
      "    0.0833\n",
      "    0.5833\n",
      "\n",
      "    2.0833\n",
      "    0.0833\n",
      "    0.5833\n",
      "\n",
      "    2.0833\n",
      "    0.0833\n",
      "    0.5833\n",
      "\n"
     ]
    }
   ],
   "source": [
    "A = [1,2,3;\n",
    "     2,3,1;\n",
    "     2,1,3];\n",
    "\n",
    "b = [4;5;6];\n",
    "\n",
    "phi_estimate_1 = (A^(-1))*b;\n",
    "phi_estimate_2 = linsolve(A,b);\n",
    "phi_estimate_3 = A \\ b;\n",
    "\n",
    "disp(phi_estimate_1)\n",
    "\n",
    "disp(phi_estimate_2)\n",
    "\n",
    "disp(phi_estimate_3)"
   ]
  },
  {
   "cell_type": "markdown",
   "id": "3d9d575e-e786-42eb-b2db-73163c76b5ca",
   "metadata": {},
   "source": [
    "## Matrix conditioning\n",
    "\n",
    "A matrix that is \"less than full rank\" or \"singular\" has one or more columns that can be represented as a linear combination of other columns.\n",
    "\n",
    "It always has a determinant of 0. It cannot be inverted. Trying to invert a singular matrix is a bit like trying to divide by 0!\n",
    "\n",
    "A matrix that is \"ill-conditioned\" has one or more columns that could *almost* be represented as a linear combination of others, ***but not quite***. One sign of such a matrix is that its determinant will be *close to zero*. It *can* be inverted, *in principle.* In practice, the algorithms we have available to invert such matrices will sometimes produce very large errors.\n",
    "\n",
    "Take the matrix $\\mathbf{A}$ from our example above. Let's use the `det()` function to compute its determinant:"
   ]
  },
  {
   "cell_type": "code",
   "execution_count": 7,
   "id": "94692e54-8f58-47c0-b0f0-3550e6495001",
   "metadata": {},
   "outputs": [
    {
     "data": {
      "text/html": [
       "<html><body><pre>ans = -12</pre></body></html>"
      ],
      "text/plain": [
       "ans = -12"
      ]
     },
     "execution_count": 7,
     "metadata": {},
     "output_type": "execute_result"
    }
   ],
   "source": [
    "det(A)"
   ]
  },
  {
   "cell_type": "code",
   "execution_count": 8,
   "id": "defdb5c5-7d56-49db-9a65-abace417e399",
   "metadata": {},
   "outputs": [
    {
     "data": {
      "text/html": [
       "<html><body><pre>D = 3×3 double\n",
       "     1     2     3\n",
       "     1     2     3\n",
       "     1     2     3\n",
       "</pre></body></html>"
      ],
      "text/plain": [
       "D = 3×3 double\n",
       "     1     2     3\n",
       "     1     2     3\n",
       "     1     2     3\n"
      ]
     },
     "execution_count": 8,
     "metadata": {},
     "output_type": "execute_result"
    },
    {
     "data": {
      "text/html": [
       "<html><body><pre>ans = 0</pre></body></html>"
      ],
      "text/plain": [
       "ans = 0"
      ]
     },
     "execution_count": 8,
     "metadata": {},
     "output_type": "execute_result"
    }
   ],
   "source": [
    "D = [1,2,3;\n",
    "     1,2,3;\n",
    "     1,2,3]\n",
    "            \n",
    "det(D)"
   ]
  },
  {
   "cell_type": "markdown",
   "id": "941a5de1-8a11-4a39-8177-3bac13da9594",
   "metadata": {},
   "source": [
    "The columns of $\\mathbf{D}$ are not just linearly dependent, they are identical! Of course its determinant is zero. Attempting to invert it will return an error.\n",
    "\n",
    "How above this next matrix, $\\mathbf{G}$?"
   ]
  },
  {
   "cell_type": "code",
   "execution_count": 9,
   "id": "0e13fe5f-d121-4038-9a64-6f5696a06af0",
   "metadata": {},
   "outputs": [
    {
     "data": {
      "text/html": [
       "<html><body><pre>ans = 8.8818e-17</pre></body></html>"
      ],
      "text/plain": [
       "ans = 8.8818e-17"
      ]
     },
     "execution_count": 9,
     "metadata": {},
     "output_type": "execute_result"
    }
   ],
   "source": [
    "D = [1,2,3;\n",
    "     1.1,2.1,2.9;\n",
    "     0.9,1.9,3.1];\n",
    "            \n",
    "det(D)\n",
    "\n",
    "\n"
   ]
  },
  {
   "cell_type": "markdown",
   "id": "a6cdbdf3-ad4b-40cf-a76f-2476bb0193bd",
   "metadata": {},
   "source": [
    "The values of $\\mathbf{G}$ are very close to the values of the singular matrix $\\mathbf{D}$, but they have been shifted a little up or down so that they are not *quite* collinear any more. But the *almost* are. that's why the determinant is very close to zero.\n",
    "\n",
    "Now let's try to solve the following system of equations:\n",
    "\n",
    "$$ \\mathbf{G} \\phi = \\mathbf{b}$$\n",
    "\n",
    "### Quick exercise for matrix conditioning:\n",
    "\n",
    "In the dell below, try finding the solution for $\\phi$ in the above system using both the methods we tried before. Are the two results similar? If they're different, which one do you trust more?"
   ]
  },
  {
   "cell_type": "code",
   "execution_count": null,
   "id": "acec80e0-4f58-4030-befb-58d66e7451e5",
   "metadata": {},
   "outputs": [],
   "source": []
  },
  {
   "cell_type": "markdown",
   "id": "16af4ff3-3b4d-4a1a-95b7-bb6c4a4e08d2",
   "metadata": {},
   "source": [
    "## Eigenvalues\n",
    "\n",
    "Consider the following geometric sequence:\n",
    "\n",
    "$$\\left \\{\\beta^i \\right \\}_{i=0}^{\\infty}$$\n",
    "\n",
    "How can be tell whether or not the sequence will converge, and $\\lim\\limits_{i\\to\\infty} \\beta^i = 0$?\n",
    "\n",
    "The rule is simple once you know it--we'll have convergence for $\\beta \\in (-1,1)$.\n",
    "\n",
    "Now, what about this next sequence:\n",
    "\n",
    "$$ \\left \\{ \\mathbf{B}^i \\right \\}_{i=0}^{\\infty},$$\n",
    "\n",
    "for $$ \\underset{m \\times n}{\\mathbf{B}} = \\begin{bmatrix} \n",
    "b_{11} & b_{12} & \\dots & b_{1n}\\\\\n",
    "b_{21} & b_{22} & \\dots & b_{2n} \\\\\n",
    "\\vdots & \\vdots & \\ddots & \\vdots \\\\\n",
    "b_{n1} & b_{n2} & \\dots & b_{nn}\n",
    "\\end{bmatrix}$$\n",
    "\n",
    "\n",
    "What will $\\lim\\limits_{i \\to \\infty} \\mathbf{B}^i$ be? And how can we know whether it will converge?\n",
    "\n",
    "It turns out, that if the sequence converges, $$\\lim\\limits_{i \\to \\infty} \\mathbf{B}^i = \\underset{n \\times n}{\\mathbf{0}} = \\begin{bmatrix} \n",
    "0 & 0 & \\dots & 0\\\\\n",
    "0 & 0 & \\dots & 0 \\\\\n",
    "\\vdots & \\vdots & \\ddots & \\vdots \\\\\n",
    "0 & 0 & \\dots & 0\n",
    "\\end{bmatrix}.$$\n",
    "\n",
    "How can we know whether this will occur?\n",
    "\n",
    "The answer turns out to be: It depends on whether the magnitude of the largest eigenvalue of the matrix is bounded strictly between -1 and 1.\n",
    "\n",
    "### But what's an eigenvalue?\n",
    "\n",
    "A quick review: Every square matrix $\\mathbf{A}$ of dimension $n$ has $n$ associated eigenvalues $\\left \\{ \\lambda_i \\right \\}_{i=1}^n$ such that each $\\lambda_i$ solves the equation:\n",
    "\n",
    "$$ \\mathbf{A} \\mathbf{v}_i = \\lambda_i \\mathbf{v}_i $$\n",
    "\n",
    "for some eigenvector $\\mathbf{v}_i$.\n",
    "\n",
    "### How do we solve for eigenvalues?\n",
    "\n",
    "Using computers! But we can get an idea of the solution in the following way:\n",
    "\n",
    "$$\n",
    "\\begin{align}\n",
    "\\mathbf{A} \\mathbf{v}_i &= \\lambda_i \\mathbf{v}_i\\\\\n",
    "&\\iff\\\\\n",
    "\\mathbf{A} \\mathbf{v}_i &= \\lambda_i \\mathbf{I} \\mathbf{v}_i\\\\\n",
    "&\\iff\\\\\n",
    "\\left ( \\mathbf{A} - \\lambda_i \\mathbf{I}  \\right ) \\mathbf{v}_i &= \\mathbf{0}\n",
    "\\end{align}\n",
    "$$\n",
    "\n",
    "The last step above, $\\left ( \\mathbf{A} - \\lambda_i \\mathbf{I}  \\right ) \\mathbf{v}_i = \\mathbf{0}$, is a homogeneous system of equations. It will only have a non-trivial solution for $\\mathbf{v}_i$ if the determinant of $\\mathbf{A} - \\lambda_i \\mathbf{I}$ is equal to zero. Formally, we need that:\n",
    "\n",
    "$$ \\left | \\mathbf{A} - \\lambda_i \\mathbf{I} \\right | = 0$$\n",
    "\n",
    "This is the equation we can use to characterize the solution for eigenvalues, and then, eigenvectors. To make it more concrete, let's look more closely at the 2$\\times$2 case.\n",
    "\n",
    "### The 2$\\times$2 case\n",
    "\n",
    "If our matrix is 2$\\times$2, then our system is:\n",
    "\n",
    "$$ \\begin{align}\\left | \\begin{bmatrix}a_{11} & a_{12}\\\\ a_{21} & a_{22}  \\end{bmatrix} - \\begin{bmatrix}\\lambda_i &0\\\\ 0 & \\lambda_i \\end{bmatrix} \\right | &= 0 \\\\\n",
    "&\\iff\\\\\n",
    "\\left | \\begin{bmatrix}a_{11}- \\lambda_i & a_{12}\\\\ a_{21} & a_{22} - \\lambda_i  \\end{bmatrix}  \\right | &= 0\\\\\n",
    "&\\iff\\\\\n",
    "\\lambda_i^2 - (a_{11} + a_{22}) \\lambda_i + a_{11} a_{22}-a_{12} a_{21} &= 0 \n",
    "\\end{align}$$\n",
    "\n",
    "\n",
    "This should give us 2 eigenvalues (real or complex). Once we have those, we can characterize the eigenvectors.\n",
    "\n",
    "The important thing to remember about eigenvectors is that they are only unique up to a scaling factor. This means that within each vector, the ratios between entries must remain the same, but you can multiply the whole vector by any constant you like.\n",
    "\n",
    "### Calculate eigenvalues/vectors with NumPy\n",
    "\n",
    "The `eig()` function will do the trick!\n",
    "\n",
    "Below, see an example with for the $\\mathbf{A}$ which we defined earlier:"
   ]
  },
  {
   "cell_type": "code",
   "execution_count": 12,
   "id": "408fd74a-6087-4172-9a07-8729e54df5e8",
   "metadata": {},
   "outputs": [
    {
     "name": "stdout",
     "output_type": "stream",
     "text": [
      "   -1.0000\n",
      "    6.0000\n",
      "    2.0000\n",
      "\n",
      "   -1.0000         0         0\n",
      "         0    6.0000         0\n",
      "         0         0    2.0000\n",
      "\n",
      "   -0.8704    0.5774    0.1155\n",
      "    0.3482    0.5774   -0.8083\n",
      "    0.3482    0.5774    0.5774\n",
      "\n"
     ]
    }
   ],
   "source": [
    "A = [1,2,3;\n",
    "     2,3,1;\n",
    "     2,1,3];\n",
    "\n",
    "eigenvalues = eig(A);\n",
    "\n",
    "[eigenvectors,also_eigenvalues] = eig(A);\n",
    "\n",
    "disp(eigenvalues)\n",
    "\n",
    "disp(also_eigenvalues)\n",
    "\n",
    "disp(eigenvectors)"
   ]
  },
  {
   "cell_type": "markdown",
   "id": "d0223051-33fe-4f38-9b66-10eb10ed258c",
   "metadata": {},
   "source": [
    "### Quick exercise for eigenvalues and geometric sequences\n",
    "\n",
    "Define some 3$\\times$3 matrix whose largest eigenvalue has an absolute value greater than 1. Confirm the size of the largest eigenvalue using `det()`. Confirm that the geometric sequence which consists of raising this matrix to higher and higher powers diverges.\n",
    "\n",
    "Then, define some 3$\\times$3 matrix whose largest eigenvalue is strictly bounded within $(-1,1)$. Confirm the size of the largest eigenvalue using `det()`. Confirm that the geometric sequence which consists of raising this matrix to higher and higher powers converges.\n"
   ]
  },
  {
   "cell_type": "code",
   "execution_count": null,
   "id": "2b7043c3-eceb-47fa-81c8-85b099cf28ff",
   "metadata": {},
   "outputs": [],
   "source": []
  }
 ],
 "metadata": {
  "kernelspec": {
   "display_name": "MATLAB Kernel",
   "language": "matlab",
   "name": "jupyter_matlab_kernel"
  },
  "language_info": {
   "file_extension": ".m",
   "mimetype": "text/x-matlab",
   "name": "matlab"
  }
 },
 "nbformat": 4,
 "nbformat_minor": 5
}
