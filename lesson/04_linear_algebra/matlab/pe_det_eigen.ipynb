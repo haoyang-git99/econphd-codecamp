{
 "cells": [
  {
   "cell_type": "markdown",
   "id": "505194bf-26e7-4ed2-b2dd-dbe851c6e6df",
   "metadata": {},
   "source": [
    "# Practical Exercise: determinants and eigenvalues\n",
    "\n",
    "Complete the following as best you can:\n",
    "  1. Write a function which will compute the determinant of an arbitrary 2$\\times$2 matrix. Check your result using Matlab's determinant function.\n",
    "  2. Write a function which will compute the eigenvalues of an arbitrary 2$\\times$2 matrix. Check your result using Matlab's eigenvalue function.\n",
    "\n",
    "\n",
    "***Bonus***: Write a function which will compute the eigenvectors of an arbitrary 2$\\times$2 matrix."
   ]
  },
  {
   "cell_type": "code",
   "execution_count": null,
   "id": "cdcedda7-6ef3-4591-aec4-18565e544018",
   "metadata": {},
   "outputs": [],
   "source": []
  }
 ],
 "metadata": {
  "kernelspec": {
   "display_name": "MATLAB Kernel",
   "language": "matlab",
   "name": "jupyter_matlab_kernel"
  },
  "language_info": {
   "file_extension": ".m",
   "mimetype": "text/x-matlab",
   "name": "matlab"
  }
 },
 "nbformat": 4,
 "nbformat_minor": 5
}
