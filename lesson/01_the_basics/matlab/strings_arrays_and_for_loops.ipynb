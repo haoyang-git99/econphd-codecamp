{
 "cells": [
  {
   "cell_type": "markdown",
   "id": "f7e7ab0f-3853-4c6b-bdc1-a56c35ddef57",
   "metadata": {},
   "source": [
    "# Strings, Arrays, and `for` Loops\n",
    "\n",
    "In this notebook we'll cover the basis of strings, arrays, and `for` loops in Matlab.\n",
    "\n",
    " 1. First we'll introduce strings and string indexing.\n",
    " 2. Next we'll introduce arrays and matrices--datatypes designed with numerical work in mind.\n",
    " 3. Finally, we'll get a little bit familiar with `for` loops."
   ]
  },
  {
   "cell_type": "markdown",
   "id": "95045c91-0f73-4eef-91a0-a12297e4725f",
   "metadata": {},
   "source": [
    "## Strings\n",
    "\n",
    "Matlab handles strings a bit differently than many other programming languages.\n",
    "\n",
    "If you define a string with single quotes `'`, it is called a \"character array\" and can be indexed like a string in other languages such as, for example, Python.\n",
    "\n",
    "If you define a string with double quotes `\"` it is called a \"string\" and can NOT be indexed directly. I personally find this confusing, but as we'll see there is an easy way to work around it.\n",
    "\n",
    "Strings and/or character arrays in Matlab can be concatenated using the `strcat()` function.\n",
    "\n",
    "If you are working with *only* character arrays, they can also be concatenated by being placed in a space-separated list between two square brackets, as shown below.\n",
    "\n",
    "Strings actually contain character arrays which can be extracted by passing the index 1 in between curly brackets `{`, also shown below."
   ]
  },
  {
   "cell_type": "code",
   "execution_count": 4,
   "id": "cb4979c6-7f83-4138-a216-ff36adaa39ed",
   "metadata": {},
   "outputs": [
    {
     "name": "stdout",
     "output_type": "stream",
     "text": [
      "Hi there. How are you?\n",
      "Hi there. How are you?\n"
     ]
    }
   ],
   "source": [
    "a_matlab_character_array = 'Hi there.';\n",
    "a_matlab_string = \"How are you?\";\n",
    "\n",
    "disp(strcat(a_matlab_character_array,\" \",a_matlab_string))\n",
    "\n",
    "disp([a_matlab_character_array ' ' a_matlab_string{1}])"
   ]
  },
  {
   "cell_type": "markdown",
   "id": "d53794a2-48cc-4954-a887-b2947f7e0b1e",
   "metadata": {},
   "source": [
    "### String indexing\n",
    "\n",
    "Individual elements of character arrays can be referenced through indexing. \n",
    "\n",
    "Indexes in Matlab start from 1: 1 is the first element. The last element in an $N$-length string has index $N$.\n",
    "\n",
    "A range of values can be referenced by giving two indexes and placing a `:` colon between them.\n",
    "\n",
    "The range `a:b` will return all elements from `a` to `b`.\n",
    "\n",
    "Matlab also allows indexing with the `end` keyword. `end` will select the last element, `end` - 1 will select the first-to-last, etc."
   ]
  },
  {
   "cell_type": "code",
   "execution_count": 6,
   "id": "ca1e1bca-f4c1-4604-9970-c9fc4ece3ee0",
   "metadata": {},
   "outputs": [
    {
     "name": "stdout",
     "output_type": "stream",
     "text": [
      "H\n",
      "i\n",
      ".\n",
      "Hi you!\n"
     ]
    }
   ],
   "source": [
    "disp(a_matlab_character_array(1))\n",
    "disp(a_matlab_character_array(2))\n",
    "disp(a_matlab_character_array(end))\n",
    "\n",
    "disp([a_matlab_character_array(1:3), a_matlab_string{1}((end-3):end-1), '!'])\n"
   ]
  },
  {
   "cell_type": "markdown",
   "id": "c7381d59-5987-402c-ae5c-9c3cd92c7ca5",
   "metadata": {},
   "source": [
    "### Quick exercises for strings\n",
    "\n",
    " 1. Define some character array and/or string variables yourself. Use indexing and the `+` operator to make different combinations of them and output to the console with `disp()`."
   ]
  },
  {
   "cell_type": "code",
   "execution_count": null,
   "id": "18e09526-a798-473f-aa48-27de95c12dc5",
   "metadata": {},
   "outputs": [],
   "source": []
  },
  {
   "cell_type": "markdown",
   "id": "57f23024-2b42-4eb4-a95f-ca461b18558e",
   "metadata": {},
   "source": [
    "## Matlab Matrices\n",
    "\n",
    "Unlike some languages such as Python, lists are not a prominent part of the Matlab language. They exist, but were added after-the-fact and are not commonly used.\n",
    "\n",
    "The core of Matlab is numerical matrices, which we will learn about now.\n",
    "\n",
    "They generally must contain elements of only one type.\n",
    "\n",
    "Matrices of non-numerical datatypes can be constructed but are not usually useful and are rarely used.\n",
    "\n",
    "### Declaring matrices\n",
    "\n",
    "You can declare matrix by putting elements in between square brackets `[`, as shown below. Elements in the same row can be separated by commas or just spaces. Rows must be separated by semi-colons `;`.\n",
    "\n",
    "Don't confuse these with the semi-colons at the end of a line to suppress output!\n",
    "\n",
    "A matrix can be transposed using the single-quote `'` operator."
   ]
  },
  {
   "cell_type": "code",
   "execution_count": 7,
   "id": "2b6b98db-0fae-402e-b0eb-7299b6bf0d87",
   "metadata": {},
   "outputs": [
    {
     "name": "stdout",
     "output_type": "stream",
     "text": [
      "three ways of declaring the same matrix\n",
      "     1     2     3\n",
      "     4     5     6\n",
      "     7     8     9\n",
      "\n",
      "     1     2     3\n",
      "     4     5     6\n",
      "     7     8     9\n",
      "\n",
      "     1     2     3\n",
      "     4     5     6\n",
      "     7     8     9\n",
      "\n",
      "transposing the matrix\n",
      "     1     4     7\n",
      "     2     5     8\n",
      "     3     6     9\n",
      "\n"
     ]
    }
   ],
   "source": [
    "\n",
    "a_matrix = [1,2,3; \n",
    "            4,5,6; \n",
    "            7,8,9];\n",
    "\n",
    "also_a_matrix = [1 2 3; 4 5 6; 7 8 9];\n",
    "\n",
    "first_row = [1,2,3];\n",
    "second_row = [4,5,6];\n",
    "third_row = [7,8,9];\n",
    "\n",
    "disp('three ways of declaring the same matrix')\n",
    "disp(a_matrix)\n",
    "\n",
    "disp(also_a_matrix)\n",
    "\n",
    "disp([first_row;second_row;third_row])\n",
    "\n",
    "\n",
    "disp('transposing the matrix')\n",
    "disp(a_matrix')\n"
   ]
  },
  {
   "cell_type": "markdown",
   "id": "d91d2d31-bb35-4a81-b568-14e7d868a52d",
   "metadata": {},
   "source": [
    "\n",
    "### Matrix versus element-wise operations\n",
    "\n",
    "By default, Matlab conducts matrix operations with matrices. The `*` operator is for matrix multiplication. The `^` operator is for matrix powers (through matrix multiplication).\n",
    "\n",
    "Element-wise operations will be performed if the operator is preceded by a period `.`. `.*` for element-wise multiplication, `.^` for element-wise power, etc."
   ]
  },
  {
   "cell_type": "code",
   "execution_count": 9,
   "id": "e867c4af-96bd-4657-9729-7b4500836e5d",
   "metadata": {},
   "outputs": [
    {
     "data": {
      "text/html": [
       "<html><body><pre>ans = 1×4 double\n",
       "     1     8    27    64\n",
       "</pre></body></html>"
      ],
      "text/plain": [
       "ans = 1×4 double\n",
       "     1     8    27    64\n"
      ]
     },
     "execution_count": 9,
     "metadata": {},
     "output_type": "execute_result"
    }
   ],
   "source": [
    "nonsquare_matrix = [1 2 3 4];\n",
    "\n",
    "nonsquare_matrix.^3"
   ]
  },
  {
   "cell_type": "code",
   "execution_count": 41,
   "id": "8fb63548-d960-4a8b-8ce7-7a9298dcfcea",
   "metadata": {},
   "outputs": [
    {
     "name": "stdout",
     "output_type": "stream",
     "text": [
      "matrix multiplication\n",
      "    30    36    42\n",
      "    66    81    96\n",
      "   102   126   150\n",
      "\n",
      "element-wise multiplication\n",
      "     1     4     9\n",
      "    16    25    36\n",
      "    49    64    81\n",
      "\n",
      "matrix power\n",
      "         468         576         684\n",
      "        1062        1305        1548\n",
      "        1656        2034        2412\n",
      "\n",
      "element-wise power\n",
      "     1     8    27\n",
      "    64   125   216\n",
      "   343   512   729\n",
      "\n"
     ]
    }
   ],
   "source": [
    "%% matrix multiplication\n",
    "disp('matrix multiplication')\n",
    "disp(a_matrix*a_matrix)\n",
    "\n",
    "%% element-wise multiplication\n",
    "disp('element-wise multiplication')\n",
    "disp(a_matrix.*a_matrix)\n",
    "\n",
    "\n",
    "%% matrix power\n",
    "disp('matrix power')\n",
    "disp(a_matrix^3)\n",
    "\n",
    "%% element-wise power\n",
    "disp('element-wise power')\n",
    "disp(a_matrix.^3)\n"
   ]
  },
  {
   "cell_type": "markdown",
   "id": "c4063787-2a13-474e-adcb-6f22e57c5d11",
   "metadata": {},
   "source": [
    "### Quick exercises for matrices\n",
    "\n",
    " 1. Define a matrix with 1 row and 3 columns.\n",
    " 2. Multiply this matrix by itself using element-wise multiplication. Is the result what you expect?\n",
    " 3. Multiply this matrix by a constant. Is the result what you expect?\n",
    " 5. Multiply this matrix by itself using matrix multiplication. Is the result what you expect?\n",
    " 6. Define a new matrix which is the transpose of your original matrix, using the `'` operator.\n",
    " 7. Multiply your original matrix by its transpose using matrix multiplicatino. Is the result what you expect?\n",
    " 8. Define two new matrices: one with 1 row and 3 columns, and another with 1 row and 4 columns. Multiply them using element-wise multiplication. Is the result what you expect?"
   ]
  },
  {
   "cell_type": "code",
   "execution_count": null,
   "id": "ce1c46b2-58bf-408d-9deb-8559d9ce62bf",
   "metadata": {},
   "outputs": [],
   "source": []
  },
  {
   "cell_type": "markdown",
   "id": "4461a9a9-0521-4708-b92d-740598cba492",
   "metadata": {},
   "source": [
    "### Logical indexing\n",
    "\n",
    "A convenient type of indexing that can be used with Matlab matrices is \"logical indexing.\" It allows you to select elements of a matrix according to a vector of Boolean \"True/False\" \"1/0\" values.\n",
    "\n",
    "For example,\n",
    "\n",
    "```\n",
    "a_onedimensional_matrix = [1 2 3 4 5 6 7 8 9];\n",
    "\n",
    "a_onedimensional_matrix(logical([0 1 1 0 0 1 1 0 1]))\n",
    "```\n",
    "\n",
    "...will select the 2nd, 3rd, 6th, 7th, and 9th elements of the matrix we just defined.\n",
    "\n",
    "The list/array of \"True/False\" \"1/0\" values must be the same shape as the array its being used to index. It can be arbitrary, like the one we just saw, but it is more often convenient to define it according to a condition which is applied to each element of the same array. For example,\n",
    "\n",
    "\n",
    "```\n",
    "a_onedimensional_matrix(a_onedimensional_matrix > 3)\n",
    "```\n",
    "\n",
    "...will give us all the elements in the array which are greater than 3.\n"
   ]
  },
  {
   "cell_type": "code",
   "execution_count": 10,
   "id": "882d1bdd-3c3d-47cc-8c9d-5d5b6476180c",
   "metadata": {},
   "outputs": [
    {
     "name": "stdout",
     "output_type": "stream",
     "text": [
      "     2     3     6     7     9\n",
      "\n",
      "     4     5     6     7     8     9\n",
      "\n"
     ]
    }
   ],
   "source": [
    "a_onedimensional_matrix = [1 2 3 4 5 6 7 8 9];\n",
    "\n",
    "%% Logical indexing with an arbitrary vector of True/False values\n",
    "disp(a_onedimensional_matrix(logical([0 1 1 0 0 1 1 0 1])))\n",
    "\n",
    "%% Logical indexing with a Boolean vector generated from a logical test applied to each element of the same vector\n",
    "disp(a_onedimensional_matrix(a_onedimensional_matrix > 3))\n"
   ]
  },
  {
   "cell_type": "markdown",
   "id": "5a2eccf1-aabb-46d6-8c9d-b8e9bf2830e1",
   "metadata": {},
   "source": [
    "### Quick exercises for logical indexing\n",
    "\n",
    " 1. Define a 1-dimensional matrix and index it using two different logical conditions.\n",
    " 2. Define a 2-dimensional matrix and index it using two different logical conditions."
   ]
  },
  {
   "cell_type": "code",
   "execution_count": null,
   "id": "232de299-8d6f-4679-9d45-7e8d86d12c0e",
   "metadata": {},
   "outputs": [],
   "source": []
  },
  {
   "cell_type": "markdown",
   "id": "1e450c8b-0975-4c6d-a43c-029b803d023c",
   "metadata": {},
   "source": [
    "## `for` Loops\n",
    "\n",
    "The simplest kind of loop in Matlab is a `for` loop. It will loop through a sequence of elements pulled from a list or other \"iterable\" element."
   ]
  },
  {
   "cell_type": "code",
   "execution_count": 11,
   "id": "3f6dd300-752c-4860-b688-d0b95aec1865",
   "metadata": {},
   "outputs": [
    {
     "name": "stdout",
     "output_type": "stream",
     "text": [
      "     0\n",
      "\n",
      "     1\n",
      "\n",
      "     2\n",
      "\n"
     ]
    }
   ],
   "source": [
    "for x = [0,1,2]\n",
    "    disp(x)\n",
    "end"
   ]
  },
  {
   "cell_type": "markdown",
   "id": "d5f28ffb-a8f2-4f72-86d5-9ee8e9535b1c",
   "metadata": {},
   "source": [
    "If we want to cycle through a list of consecutive integers, a quick way to get a sequence of all the integers we'll need is to use the built-in `range()` function.\n",
    "\n",
    "In the cell below, we see three different ways to pull 0,1,2 in sequence: \n",
    "\n",
    "  1. by indexing the first 3 elements of a list of integers that we've defined\n",
    "  2. by calling `range(3)`, which by default starts from 0\n",
    "  3. by calling `range(0,3)`. Here we've explicitly specified the start point as 0."
   ]
  },
  {
   "cell_type": "code",
   "execution_count": 12,
   "id": "b04bd611-7958-4171-8624-ba5fb7bd2d7c",
   "metadata": {},
   "outputs": [
    {
     "name": "stdout",
     "output_type": "stream",
     "text": [
      "Method 1: first 3 elements of our list\n",
      "     1\n",
      "\n",
      "     2\n",
      "\n",
      "     3\n",
      "\n",
      "Method 2: a range with from 1 to 3\n",
      "     1\n",
      "\n",
      "     2\n",
      "\n",
      "     3\n",
      "\n"
     ]
    }
   ],
   "source": [
    "vector_of_integers = [1,2,3,4,5,6,7,8,9,10];\n",
    "\n",
    "disp('Method 1: first 3 elements of our list')\n",
    "for x = vector_of_integers(1:3)\n",
    "    disp(x)\n",
    "end\n",
    "disp('')\n",
    "\n",
    "disp('Method 2: a range with from 1 to 3')\n",
    "for x = 1:3\n",
    "    disp(x)\n",
    "end\n",
    "disp('')\n",
    "\n"
   ]
  },
  {
   "cell_type": "markdown",
   "id": "27cd9494-8589-411f-a114-14dc87cd9837",
   "metadata": {},
   "source": [
    "### Uses of loops\n",
    "\n",
    "Loops can have many uses. For example, we can output a sequence of powers of 2."
   ]
  },
  {
   "cell_type": "code",
   "execution_count": 13,
   "id": "84b4c14f-9c3a-439a-b9a0-3e433e095967",
   "metadata": {},
   "outputs": [
    {
     "name": "stdout",
     "output_type": "stream",
     "text": [
      "     1\n",
      "\n",
      "     2\n",
      "\n",
      "     4\n",
      "\n",
      "     8\n",
      "\n",
      "    16\n",
      "\n",
      "    32\n",
      "\n",
      "    64\n",
      "\n",
      "   128\n",
      "\n",
      "   256\n",
      "\n",
      "   512\n",
      "\n",
      "        1024\n",
      "\n",
      "        2048\n",
      "\n",
      "        4096\n",
      "\n",
      "        8192\n",
      "\n",
      "       16384\n",
      "\n",
      "       32768\n",
      "\n"
     ]
    }
   ],
   "source": [
    "for j = 0:15\n",
    "    disp(2^j)\n",
    "end"
   ]
  },
  {
   "cell_type": "markdown",
   "id": "6708e6ed-2f6a-4e5e-962b-874bc553bdc8",
   "metadata": {},
   "source": [
    "### Vectorization\n",
    "\n",
    "For many types of loop operations, there is an equivalent operation that could be performed across a pre-defined list or array, which is often called the \"vectorized\" for of the operation.\n",
    "\n",
    "This can be important because when many thousands or millions of calculations must be performed, vectorized operations in Matlab and in some other languages, especially the NumPy package for Python, are optimized to be much faster than loop operations.\n",
    "\n",
    "Below is an example of vectorizing the calculation of powers of 2."
   ]
  },
  {
   "cell_type": "code",
   "execution_count": 14,
   "id": "ee827928-6c59-4ccb-bac6-849b04334fd1",
   "metadata": {},
   "outputs": [
    {
     "data": {
      "text/html": [
       "<html><body><pre>array_of_powers = 1×16 double\n",
       "     0     1     2     3     4     5     6     7     8     9    10    11    12    13    14    15\n",
       "</pre></body></html>"
      ],
      "text/plain": [
       "array_of_powers = 1×16 double\n",
       "     0     1     2     3     4     5     6     7     8     9    10    11    12    13    14    15\n"
      ]
     },
     "execution_count": 14,
     "metadata": {},
     "output_type": "execute_result"
    },
    {
     "data": {
      "text/html": [
       "<html><body><pre>powers_of_two = 1×16 double\n",
       "           1           2           4           8          16          32          64         128         256         512        1024        2048        4096        8192       16384       32768\n",
       "</pre></body></html>"
      ],
      "text/plain": [
       "powers_of_two = 1×16 double\n",
       "           1           2           4           8          16          32          64         128         256         512        1024        2048        4096        8192       16384       32768\n"
      ]
     },
     "execution_count": 14,
     "metadata": {},
     "output_type": "execute_result"
    },
    {
     "name": "stdout",
     "output_type": "stream",
     "text": [
      "  Columns 1 through 14\n",
      "\n",
      "           1           2           4           8          16          32          64         128         256         512        1024        2048        4096        8192\n",
      "\n",
      "  Columns 15 through 16\n",
      "\n",
      "       16384       32768\n",
      "\n"
     ]
    }
   ],
   "source": [
    "array_of_powers = [0:15]\n",
    "\n",
    "powers_of_two = 2.^array_of_powers\n",
    "\n",
    "disp(powers_of_two)"
   ]
  },
  {
   "cell_type": "markdown",
   "id": "fd319bdd-0bee-40a7-8310-5e71d414be18",
   "metadata": {},
   "source": [
    "### Quick exercises for `for` loops\n",
    "\n",
    " 1. Write a loop that implements some mathematical sequence.\n",
    " 2. Write a vectorized version of the same loop."
   ]
  },
  {
   "cell_type": "code",
   "execution_count": null,
   "id": "fdb2c8fb-913e-4534-9950-4d51f8b51285",
   "metadata": {},
   "outputs": [],
   "source": []
  },
  {
   "cell_type": "markdown",
   "id": "3a03aad4-3c71-4d82-a4fa-dde13ce87096",
   "metadata": {},
   "source": [
    "## Integer ranges\n",
    "\n",
    "Sometimes it is convenient to construct an array of numbers in a regular sequence. In Matlab, one way to do this is to construct a range.\n",
    "\n",
    "A range is declared by separating 2 or 3 integers with colons `:`\n",
    " - If you provide two integers, `a:b` will produce a range of all the integers between `a` and `b`, inclusive\n",
    " - If you provide three numbers, `a:b:c` will produce a range between `a` and `c` with step-size `b`. `c` may or may not be included in the range depending on whether it \"hits\" based on the step-size.\n"
   ]
  },
  {
   "cell_type": "code",
   "execution_count": 15,
   "id": "088b5bab-b96f-4c6f-9489-17183305248a",
   "metadata": {},
   "outputs": [
    {
     "name": "stdout",
     "output_type": "stream",
     "text": [
      "By default, Matlab will calculate all the elements of the range beforehand and store them in a vector.\n",
      "    -1     1     3     5     7     9    11    13    15    17\n",
      "\n",
      "we can also pull the elements out with a `for` loop\n",
      "    -1\n",
      "\n",
      "     1\n",
      "\n",
      "     3\n",
      "\n",
      "     5\n",
      "\n",
      "     7\n",
      "\n",
      "     9\n",
      "\n",
      "    11\n",
      "\n",
      "    13\n",
      "\n",
      "    15\n",
      "\n",
      "    17\n",
      "\n"
     ]
    }
   ],
   "source": [
    "\n",
    "a_range = -1:2:18;\n",
    "\n",
    "disp('By default, Matlab will calculate all the elements of the range beforehand and store them in a vector.');\n",
    "disp(a_range)\n",
    "\n",
    "disp('we can also pull the elements out with a `for` loop')\n",
    "for j = a_range\n",
    "    disp(j)\n",
    "end\n",
    "\n",
    "\n"
   ]
  },
  {
   "cell_type": "markdown",
   "id": "0dd96a76-cb9c-4fe1-bd19-508bd8f79c75",
   "metadata": {},
   "source": [
    "## Linear Spaces\n",
    "\n",
    "The range construct in Matlab only takes integers as arguments.\n",
    "\n",
    "If you wanted a regular sequence where the start- or stop-point, or the step size are not integers, you could multiply all the elements of your integer sequence by a constant.\n",
    "\n",
    "A much easier way to achieve the same thing would be to use the `linspace()` function. With this function, you specify the start, then end, and the number of elements.\n",
    "\n",
    "Note that here we are specifying the number of elements instead of the stepsize directly. Sometimes it is more convenient to specify the stepsize, and sometimes it is more convenient to specify the number of elements, but you can always make a calculation to get one from the other if you need to."
   ]
  },
  {
   "cell_type": "code",
   "execution_count": 16,
   "id": "af42173f-d9de-4551-9825-241211b9932b",
   "metadata": {},
   "outputs": [
    {
     "name": "stdout",
     "output_type": "stream",
     "text": [
      "this generates the same sequence we made with the `range` function above\n",
      "    -1     1     3     5     7     9    11    13    15    17\n",
      "\n",
      "Need 100 numbers between 0 and 1? Here you go!\n",
      "  Columns 1 through 16\n",
      "\n",
      "         0    0.0101    0.0202    0.0303    0.0404    0.0505    0.0606    0.0707    0.0808    0.0909    0.1010    0.1111    0.1212    0.1313    0.1414    0.1515\n",
      "\n",
      "  Columns 17 through 32\n",
      "\n",
      "    0.1616    0.1717    0.1818    0.1919    0.2020    0.2121    0.2222    0.2323    0.2424    0.2525    0.2626    0.2727    0.2828    0.2929    0.3030    0.3131\n",
      "\n",
      "  Columns 33 through 48\n",
      "\n",
      "    0.3232    0.3333    0.3434    0.3535    0.3636    0.3737    0.3838    0.3939    0.4040    0.4141    0.4242    0.4343    0.4444    0.4545    0.4646    0.4747\n",
      "\n",
      "  Columns 49 through 64\n",
      "\n",
      "    0.4848    0.4949    0.5051    0.5152    0.5253    0.5354    0.5455    0.5556    0.5657    0.5758    0.5859    0.5960    0.6061    0.6162    0.6263    0.6364\n",
      "\n",
      "  Columns 65 through 80\n",
      "\n",
      "    0.6465    0.6566    0.6667    0.6768    0.6869    0.6970    0.7071    0.7172    0.7273    0.7374    0.7475    0.7576    0.7677    0.7778    0.7879    0.7980\n",
      "\n",
      "  Columns 81 through 96\n",
      "\n",
      "    0.8081    0.8182    0.8283    0.8384    0.8485    0.8586    0.8687    0.8788    0.8889    0.8990    0.9091    0.9192    0.9293    0.9394    0.9495    0.9596\n",
      "\n",
      "  Columns 97 through 100\n",
      "\n",
      "    0.9697    0.9798    0.9899    1.0000\n",
      "\n"
     ]
    }
   ],
   "source": [
    "disp('this generates the same sequence we made with the `range` function above')\n",
    "a_linspace = linspace(-1,17,10);\n",
    "disp(a_linspace)\n",
    "\n",
    "disp('Need 100 numbers between 0 and 1? Here you go!')\n",
    "another_linspace = linspace(0,1,100);\n",
    "disp(another_linspace)\n"
   ]
  },
  {
   "cell_type": "markdown",
   "id": "49f60de7-5a7b-4729-adae-38923010005b",
   "metadata": {},
   "source": [
    "### Quick exercises for ranges and linear spaces\n",
    "\n",
    "Implement the following three sequences both using the the range construct and `linspace()`:\n",
    " 1. First element: -8. Last element: 9. Number of elements: 18\n",
    " 2. First element: -2. Last element: 2. Number of elements: 1000\n",
    " 3. First element: 8. Last element: 12. Step size: 2"
   ]
  },
  {
   "cell_type": "code",
   "execution_count": null,
   "id": "dab8395e-c7c4-487f-84cf-b32e1d53f709",
   "metadata": {},
   "outputs": [],
   "source": []
  }
 ],
 "metadata": {
  "kernelspec": {
   "display_name": "MATLAB Kernel",
   "language": "matlab",
   "name": "jupyter_matlab_kernel"
  },
  "language_info": {
   "file_extension": ".m",
   "mimetype": "text/x-matlab",
   "name": "matlab"
  }
 },
 "nbformat": 4,
 "nbformat_minor": 5
}
