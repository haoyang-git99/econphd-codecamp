{
 "cells": [
  {
   "cell_type": "markdown",
   "id": "eef059f7-82b5-456b-8028-b4db320f8c26",
   "metadata": {},
   "source": [
    "# Numeric data types\n",
    "\n",
    "This notebook will provide a basic introduction to numeric data types in Matlab.\n",
    "\n",
    "The 3 most important numeric data types in Matlab are:\n",
    "\n",
    "  1. **Integers**. Same as in math--these are the counting numbers, plus negatives, plus zero. They are perfectly precise--they store exactly the number that was input to them. In Matlab, you have to declare integers explicitly and choose how many \"bits\" you want and whether you want it to be \"signed\" (can take negative values) or \"unsigned\" (can take only positive values).\n",
    "\n",
    "  2. **Floating-point numbers**. Can be used to represent any real number. Any number that is not explicitly specified as an integer or other datatype will by default be declared as a 64-bit float. They are **imprecise**--they store a very close approximation to the number that was input. This imprecision can lead to errors sometimes when dealing with very small numbers. It also makes floats unsuitable for storing ID or serial numbers.\n",
    "\n",
    "  3. **Booleans**. True or false, 1 or 0. Called `logical` in Matlab.\n",
    "\n",
    "  4. **Complex**. An ordered pair of two floats--the real and the imaginary part. Matlab automatically returns complex numbers as the result of an operation which yield a complex number, regardless of the input datatype. This makes complex numbers easier to deal with than in some other languages such as Python, where a complex number (possible with an imaginary part of 0) needs to be the input in order for the output to be complex.\n",
    "\n"
   ]
  },
  {
   "cell_type": "markdown",
   "id": "8db83375-4c3b-4a2f-a378-cf3f5c0c874e",
   "metadata": {},
   "source": [
    "### Integers\n",
    "\n",
    "Below, we'll declare an integer. As you can see, it is a very large number: 1,234,567,890,123,456,789\n",
    "\n",
    "In any programming environment, there is always an upper limit on the largest number you can represent. In Matlab, the largest integer data type is a 64-bit integer, which can represent values from $-2^{63}$ to $2^{63} - 1$. \n",
    "\n",
    "Notice that because of the integer type's perfect precision, the stored number is exactly the same as the one that was input, as long as it's within the range of possible values."
   ]
  },
  {
   "cell_type": "code",
   "execution_count": 1,
   "id": "5f8bbb9f-1046-453f-8557-5040fc92ac49",
   "metadata": {},
   "outputs": [
    {
     "name": "stdout",
     "output_type": "stream",
     "text": [
      "   1234567890123456789\n",
      "\n",
      "int64\n"
     ]
    }
   ],
   "source": [
    "% declare an integer\n",
    "x_integer = int64(1234567890123456789);\n",
    "\n",
    "% output the integer\n",
    "disp(x_integer);\n",
    "\n",
    "% output the integer's data type (`int`)\n",
    "disp(class(x_integer));\n",
    "\n"
   ]
  },
  {
   "cell_type": "markdown",
   "id": "0a6979ba-1720-4103-a7b4-c7c887f934e6",
   "metadata": {},
   "source": [
    "### Quick exercises for integers\n",
    "\n",
    "In the empty cell below, do the following:\n",
    " 1. Declare a negative integer.\n",
    " 2. Try to declare an integer so large that the value cannot be stored."
   ]
  },
  {
   "cell_type": "code",
   "execution_count": null,
   "id": "6d813910-4694-42e0-a4e0-310f32f927ba",
   "metadata": {},
   "outputs": [],
   "source": []
  },
  {
   "cell_type": "markdown",
   "id": "581cbab0-3b7c-41c6-a4d8-04f48f090164",
   "metadata": {},
   "source": [
    "### Floats\n",
    "\n",
    "Now, let's declare a float. As you can see, it is the same very large number as before: 1,234,567,890,123,456,789\n",
    "\n",
    "All numbers are declared as floats by default in Matlab. To declare this number as an integer, we needed to explicitly specify our data type preference. Now, however, we just have to assign the value, and Matlab will assume we want a double-precision (64-bit) float.\n",
    "\n",
    "\n",
    "\n"
   ]
  },
  {
   "cell_type": "code",
   "execution_count": 5,
   "id": "c5be2ca0-0805-4ef4-9193-ee23594f645d",
   "metadata": {},
   "outputs": [
    {
     "data": {
      "text/html": [
       "<html><body><pre>x_float = 1.2346e+18</pre></body></html>"
      ],
      "text/plain": [
       "x_float = 1.2346e+18"
      ]
     },
     "execution_count": 5,
     "metadata": {},
     "output_type": "execute_result"
    },
    {
     "name": "stdout",
     "output_type": "stream",
     "text": [
      "   1.2346e+18\n",
      "\n",
      "double\n"
     ]
    }
   ],
   "source": [
    "x_float = 1234567890123456789\n",
    "\n",
    "disp(x_float)\n",
    "disp(class(x_float))\n",
    "\n"
   ]
  },
  {
   "cell_type": "markdown",
   "id": "4b81f755-2bd7-43ff-a648-937e32f9772b",
   "metadata": {},
   "source": [
    "### Float precision\n",
    "\n",
    "Notice that when we output the float after defining it, the number is shown using scientific notation, with only the first several digits displayed.\n",
    "\n",
    "This is how numbers are stored as floats--the first several \"most significant\" digits are stored, and the magnitude of the number is stored as a power of 10. **Not** all of the smaller digits preserved. How can we verify this? We can convert the float back to the integer type and display it.\n",
    "\n",
    "Notice that now the last 9 digits are quite different from what was originally input."
   ]
  },
  {
   "cell_type": "code",
   "execution_count": 6,
   "id": "0afe5354-65bf-4da5-a3d8-8e2edac170d2",
   "metadata": {},
   "outputs": [
    {
     "name": "stdout",
     "output_type": "stream",
     "text": [
      "   1234567890123456768\n",
      "\n"
     ]
    }
   ],
   "source": [
    "disp(int64(x_float))"
   ]
  },
  {
   "cell_type": "markdown",
   "id": "8661de6a-efd0-429b-a803-70148e6c39a4",
   "metadata": {},
   "source": [
    "### Quick exercises for floats\n",
    "\n",
    "In the empty cell below, do the following:\n",
    " 1. Declare a float which only has a few digits, so that it does not lose precision.\n",
    " 2. Declare a float which has many digits, and so loses precision.\n",
    " 3. Declare a float which is very close to zero."
   ]
  },
  {
   "cell_type": "code",
   "execution_count": null,
   "id": "1082da19-4b81-4bd4-a6e4-d43e2e182364",
   "metadata": {},
   "outputs": [],
   "source": []
  },
  {
   "cell_type": "markdown",
   "id": "0d0dd5ca-eabe-426f-aa81-0ff20fdab008",
   "metadata": {},
   "source": [
    "### Booleans\n",
    "\n",
    "A Boolean variable, called `logical` in Matlab, can take a value of 1 or 0. Below, we initiate it by declaring a 1 as `logical`.\n",
    "\n"
   ]
  },
  {
   "cell_type": "code",
   "execution_count": 4,
   "id": "2e203f45-4f2b-41ee-957e-4a3d340fd253",
   "metadata": {},
   "outputs": [
    {
     "name": "stdout",
     "output_type": "stream",
     "text": [
      "   1\n",
      "\n",
      "logical\n"
     ]
    }
   ],
   "source": [
    "x_bool = logical(1);\n",
    "disp(x_bool)\n",
    "disp(class(x_bool))\n"
   ]
  },
  {
   "cell_type": "markdown",
   "id": "5c587721-80d0-4999-87c2-4f3bbc848b96",
   "metadata": {},
   "source": [
    "### Logical statements\n",
    "\n",
    "There are a number of logical operations whose outcome is a Boolean object. "
   ]
  },
  {
   "cell_type": "code",
   "execution_count": 5,
   "id": "a0f08801-09f7-4ef3-87cc-d3a5e5557e86",
   "metadata": {},
   "outputs": [
    {
     "name": "stdout",
     "output_type": "stream",
     "text": [
      "   1\n",
      "\n",
      "logical\n",
      "   0\n",
      "\n",
      "logical\n",
      "   1\n",
      "\n",
      "logical\n"
     ]
    }
   ],
   "source": [
    "disp(2 > 1)\n",
    "disp(class(2>1))\n",
    "\n",
    "\n",
    "disp(2 == 1)\n",
    "disp(class(2==1))\n",
    "\n",
    "\n",
    "disp((1+1) == 2)\n",
    "disp(class((1+1)==1))"
   ]
  },
  {
   "cell_type": "markdown",
   "id": "fdda51f4-aa96-4547-aa9c-1c7a458fe08f",
   "metadata": {},
   "source": [
    "### Float precisions, another demonstration\n",
    "\n",
    "If we test directly whether the float copy of our earlier \"big\" number is preserved when stored as a float, the outcome will be a Boolean object"
   ]
  },
  {
   "cell_type": "code",
   "execution_count": 6,
   "id": "33959b84-54fa-486c-ab3c-8cc9e8edf0cb",
   "metadata": {},
   "outputs": [
    {
     "name": "stdout",
     "output_type": "stream",
     "text": [
      "   0\n",
      "\n"
     ]
    }
   ],
   "source": [
    "disp(x_float == x_integer)"
   ]
  },
  {
   "cell_type": "markdown",
   "id": "aec6a2a2-a616-4214-91c0-8cf4f1daca99",
   "metadata": {},
   "source": [
    "### Quick exercises for comparing floats and integers\n",
    "\n",
    "In the empty cell below, do the following:\n",
    " 1. Declare a number as a float and an integer, such that the float equals the integer (returns `True` for the `==` logical test.)\n",
    " 2. Declare a number as a float and an integer, such that the float does **not** equal the integer (returns `False` for the `==` logical test.)\n"
   ]
  },
  {
   "cell_type": "code",
   "execution_count": null,
   "id": "119252cb-3c55-4499-acf3-1ca905a38efa",
   "metadata": {},
   "outputs": [],
   "source": []
  },
  {
   "cell_type": "markdown",
   "id": "514db401-b91f-4340-b23a-998621edf8ea",
   "metadata": {},
   "source": [
    "### Infinity and NaN\n",
    "\n",
    "The float data type has the ability to take values representing positive and negative infinity. It can also take the \"NaN\"/\"nan\"/\"Not a Number\" value.\n",
    "\n",
    "In Matlab, unlike some other languages, mathematical operations with results that are \"out of bounds\" or undefined will generally return either infinity or NaN.\n",
    "\n",
    "For example, dividing a positive number by zero returns positive infinity, and dividing a negative number by zero returns negative infinity. Dividing zero by zero returns NaN, as the result is undefined.\n"
   ]
  },
  {
   "cell_type": "code",
   "execution_count": 11,
   "id": "d4bc792c-75af-403a-8a3c-3a27d5300a1f",
   "metadata": {},
   "outputs": [
    {
     "name": "stdout",
     "output_type": "stream",
     "text": [
      "   Inf\n",
      "\n",
      "double\n",
      "  -Inf\n",
      "\n"
     ]
    }
   ],
   "source": [
    "%% Declaring infinity\n",
    "\n",
    "unbounded = Inf;\n",
    "\n",
    "disp(unbounded);\n",
    "\n",
    "disp(class(unbounded));\n",
    "\n",
    "disp(-unbounded);\n",
    "\n"
   ]
  },
  {
   "cell_type": "code",
   "execution_count": 12,
   "id": "a68ad2aa-4fd8-4cc7-91ca-9926e5c854ec",
   "metadata": {},
   "outputs": [
    {
     "name": "stdout",
     "output_type": "stream",
     "text": [
      "   NaN\n",
      "\n",
      "double\n"
     ]
    }
   ],
   "source": [
    "%% Declaring not a number \n",
    "\n",
    "\n",
    "notanumber = nan;\n",
    "\n",
    "disp(notanumber)\n",
    "\n",
    "disp(class(notanumber))"
   ]
  },
  {
   "cell_type": "code",
   "execution_count": 13,
   "id": "2f846f74-2002-499b-9ec5-2149cd0d6eb5",
   "metadata": {},
   "outputs": [
    {
     "name": "stdout",
     "output_type": "stream",
     "text": [
      "   Inf\n",
      "\n"
     ]
    }
   ],
   "source": [
    "%% The result of this operation will be too big, and will return infinity.\n",
    "\n",
    "disp(100.^1000000000)"
   ]
  },
  {
   "cell_type": "code",
   "execution_count": 14,
   "id": "9a93ee0b-3936-42f1-bfb5-db6a970fcca6",
   "metadata": {},
   "outputs": [
    {
     "name": "stdout",
     "output_type": "stream",
     "text": [
      "   Inf\n",
      "\n"
     ]
    }
   ],
   "source": [
    "%% Get infinity by dividing by zero\n",
    "\n",
    "disp(100./0)"
   ]
  },
  {
   "cell_type": "markdown",
   "id": "7868a82b-bdcd-46f1-8d8d-f22ab2ae206d",
   "metadata": {},
   "source": [
    "### Quick exercises for NaN and Inf\n",
    "\n",
    " 1. Divide zero by zero. What is the result? Does this make sense to you? Why or why not?\n",
    " 3. Find some operation other than dividing by zero which yields infinity.\n"
   ]
  },
  {
   "cell_type": "code",
   "execution_count": null,
   "id": "50fa7b6e-1153-4511-aa6a-6ae83eaa230b",
   "metadata": {},
   "outputs": [],
   "source": []
  },
  {
   "cell_type": "markdown",
   "id": "16fbc345-58c0-47bd-a29f-db3271e9cc7b",
   "metadata": {},
   "source": [
    "\n",
    "#### Comparisons with Infinity and NaN\n",
    "\n",
    "Probably the most important basic fact to learn about infinity and NaN is what they will return in inequality comparisons.\n",
    "\n",
    "Logically, positive infinity is greater than any finite value, and negative infinity is less than any finite value.\n",
    "\n",
    "NaN means not a number, so any comparisons with NaN return False, no matter what.\n",
    "\n"
   ]
  },
  {
   "cell_type": "code",
   "execution_count": 18,
   "id": "09c93d94-7775-45a5-a3f6-a8469e9a0284",
   "metadata": {},
   "outputs": [
    {
     "name": "stdout",
     "output_type": "stream",
     "text": [
      "+inf is greater than anything (True for >, False for <)\n",
      "Positive infinity > 10000: true\n",
      "Positive infinity < 10000: false\n",
      " \n",
      "-inf is less than anything (False for >, True for <)\n",
      "Negative infinity > -10000: false\n",
      "Negative infinity < -10000: true\n",
      " \n",
      "NaN returns false for all comparisons (False for <, False for >)\n",
      "NaN > positive infinity: false\n",
      "NaN < positive infinity: false\n",
      " \n",
      "NaN returns false for all comparisons (False for <, False for >)\n",
      "NaN > 10000: false\n",
      "NaN < 10000: false\n",
      " \n"
     ]
    }
   ],
   "source": [
    "%% +inf is greater than anything (True for >, False for <)\n",
    "disp('+inf is greater than anything (True for >, False for <)')\n",
    "disp(strcat('Positive infinity > 10000:', \" \", string(Inf > 10000)))\n",
    "disp(strcat('Positive infinity < 10000:', \" \", string(Inf < 10000)))\n",
    "disp(\" \")\n",
    "\n",
    "%% -inf is less than anything (False for >, True for <)\n",
    "disp('-inf is less than anything (False for >, True for <)')\n",
    "disp(strcat('Negative infinity > -10000:', \" \", string(-Inf > -10000)))\n",
    "disp(strcat('Negative infinity < -10000:', \" \", string(-Inf < -10000)))\n",
    "disp(\" \")\n",
    "\n",
    "%% NaN returns false for all comparisons (False for <, False for >)\n",
    "disp('NaN returns false for all comparisons (False for <, False for >)')\n",
    "disp(strcat('NaN > positive infinity:', \" \", string(NaN > Inf)))\n",
    "disp(strcat('NaN < positive infinity:', \" \", string(NaN > Inf)))\n",
    "disp(\" \")\n",
    "\n",
    "%% NaN returns false for all comparisons (False for <, False for >)\n",
    "disp('NaN returns false for all comparisons (False for <, False for >)')\n",
    "disp(strcat('NaN > 10000:', \" \", string(NaN > 10000)))\n",
    "disp(strcat('NaN < 10000:', \" \", string(NaN < 10000)))\n",
    "disp(\" \")\n",
    "\n",
    "\n"
   ]
  },
  {
   "cell_type": "markdown",
   "id": "7958bd4d-d430-45f5-ab6a-5ea434aeda18",
   "metadata": {},
   "source": [
    "### Quick exercises for NaN and Inf comparisons\n",
    "\n",
    " 1. Test whether or not NaN is equal to itself. Does this `==` test return `True` or `False`? Does this make sense to you? Why or why not?\n"
   ]
  },
  {
   "cell_type": "code",
   "execution_count": null,
   "id": "77d38719-d9e2-4c67-a6ba-c4cb75312975",
   "metadata": {},
   "outputs": [],
   "source": []
  },
  {
   "cell_type": "markdown",
   "id": "e3a7469f-f452-4e68-a3eb-84e380da7f9f",
   "metadata": {},
   "source": [
    "### Complex numbers\n",
    "\n",
    "A complex number is a pair of two floats: the real part and the imaginary part.\n",
    "\n",
    "The imaginary part can be written with a `j` following it. So `1.0` will be a non-complex float, but `1.0 + 0.0j` will take the same value, but as a complex number (which happens to have no imaginary part, yet).\n",
    "\n",
    "If you take the square root of a negative non-complex float, you will get an error or NaN. The square root of a negative number declared as a complex number will return the mathematically correct result (an imaginary number)."
   ]
  },
  {
   "cell_type": "code",
   "execution_count": 22,
   "id": "151a5409-0b24-4121-a197-223869ddc886",
   "metadata": {},
   "outputs": [
    {
     "data": {
      "text/html": [
       "<html><body><pre>one_noncomplex = -1</pre></body></html>"
      ],
      "text/plain": [
       "one_noncomplex = -1"
      ]
     },
     "execution_count": 22,
     "metadata": {},
     "output_type": "execute_result"
    },
    {
     "data": {
      "text/html": [
       "<html><body><pre>one_complex = -1</pre></body></html>"
      ],
      "text/plain": [
       "one_complex = -1"
      ]
     },
     "execution_count": 22,
     "metadata": {},
     "output_type": "execute_result"
    },
    {
     "name": "stdout",
     "output_type": "stream",
     "text": [
      "   1\n",
      "\n",
      "   0.0000 + 1.0000i\n",
      "\n",
      "   0.0000 + 1.0000i\n",
      "\n"
     ]
    }
   ],
   "source": [
    "%% In Matlab, all floats are handled as potentially complex by default. \n",
    "%% Still, here we are showing two ways of declaring the same number for comparability to other languages (like Python) where \n",
    "%% potentially complex numbers need to be declared explicitly.\n",
    "\n",
    "one_noncomplex = -1.0\n",
    "one_complex = -1.0 + 0.0j\n",
    "\n",
    "%% If you check equality of the two variables, it returns True! As it should--they're just two ways of declaring a variable to store the same value.\n",
    "disp(one_noncomplex == one_complex)\n",
    "\n",
    "%% Square root of -1 in Matlab is `i` regardless of how the number was declared.\n",
    "%% This contrasts with, for example, Python, where an operation on a number that was not originally declared as complex can never return a complex value.\n",
    "disp(sqrt(one_noncomplex))\n",
    "disp(sqrt(one_complex))\n"
   ]
  },
  {
   "cell_type": "markdown",
   "id": "0f76270f-6d44-44ce-a0ae-4d2dfea39c1d",
   "metadata": {},
   "source": [
    "### Quick exercises for complex numbers\n",
    "\n",
    " 1. Declare some complex numbers and perform at least 3 different operations \n"
   ]
  },
  {
   "cell_type": "code",
   "execution_count": null,
   "id": "2de19656-8076-4204-8abf-b08f74ac2eb4",
   "metadata": {},
   "outputs": [],
   "source": []
  }
 ],
 "metadata": {
  "kernelspec": {
   "display_name": "MATLAB Kernel",
   "language": "matlab",
   "name": "jupyter_matlab_kernel"
  },
  "language_info": {
   "file_extension": ".m",
   "mimetype": "text/x-matlab",
   "name": "matlab"
  }
 },
 "nbformat": 4,
 "nbformat_minor": 5
}
