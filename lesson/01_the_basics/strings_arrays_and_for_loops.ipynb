{
 "cells": [
  {
   "cell_type": "markdown",
   "id": "f7e7ab0f-3853-4c6b-bdc1-a56c35ddef57",
   "metadata": {},
   "source": [
    "# Strings, Arrays, and `for` Loops\n",
    "\n",
    "In this notebook we'll cover the basis of strings, arrays, and `for` loops in Python.\n",
    "\n",
    " 1. First we'll introduce strings and string indexing.\n",
    " 2. Next we'll introduce lists and tuples--built-in datatypes which are a little bit different in Python than in some other languages.\n",
    " 3. Next we'll introduce NumPy arrays and matrices--datatypes designed with numerical work in mind.\n",
    " 4. Finally, we'll get a little bit familiar with `for` loops."
   ]
  },
  {
   "cell_type": "markdown",
   "id": "95045c91-0f73-4eef-91a0-a12297e4725f",
   "metadata": {},
   "source": [
    "## Strings\n",
    "\n",
    "A string in Python and other programming languages is a string of individual characters. It can be declared using `'` single quotes or `\"` double quotes.\n",
    "\n",
    "It can also be declared using triple quotes `'''` `\"\"\"` of either variety, which allows for line breaks.\n",
    "\n",
    "Strings in Python can be concatenated using a simple `+` operator."
   ]
  },
  {
   "cell_type": "code",
   "execution_count": 1,
   "id": "cb4979c6-7f83-4138-a216-ff36adaa39ed",
   "metadata": {},
   "outputs": [
    {
     "name": "stdout",
     "output_type": "stream",
     "text": [
      "Hi there. How are you?\n"
     ]
    }
   ],
   "source": [
    "a_string = 'Hi there.'\n",
    "another_string = \"How are you?\"\n",
    "\n",
    "print(a_string + ' ' + another_string)"
   ]
  },
  {
   "cell_type": "markdown",
   "id": "d53794a2-48cc-4954-a887-b2947f7e0b1e",
   "metadata": {},
   "source": [
    "### String indexing\n",
    "\n",
    "Individual elements of strings can be referenced through indexing. \n",
    "\n",
    "Indexes in Python start from 0: 0 is the first element. The last element in an $N$-length string has index $N - 1$.\n",
    "\n",
    "A range of values can be referenced by giving two indexes and placing a `:` colon between them.\n",
    "\n",
    "The range `a:b` will return all elements from `a` to `b-1`.\n",
    "\n",
    "Python also allows indexing with negative numbers, which pulls from the end of the string. -1 refers to the last element, -2 refers to the first-to-last, etc."
   ]
  },
  {
   "cell_type": "code",
   "execution_count": 2,
   "id": "ca1e1bca-f4c1-4604-9970-c9fc4ece3ee0",
   "metadata": {},
   "outputs": [
    {
     "name": "stdout",
     "output_type": "stream",
     "text": [
      "H\n",
      "i\n",
      ".\n",
      "Hi you!\n"
     ]
    }
   ],
   "source": [
    "print(a_string[0])\n",
    "print(a_string[1])\n",
    "print(a_string[-1])\n",
    "\n",
    "print(a_string[0:3] + another_string[-4:-1] + '!')\n"
   ]
  },
  {
   "cell_type": "markdown",
   "id": "c7381d59-5987-402c-ae5c-9c3cd92c7ca5",
   "metadata": {},
   "source": [
    "### Quick exercises for strings\n",
    "\n",
    " 1. Define some string variables yourself. Use indexing and the `+` operator to make different combinations of them and output to the console with `print()`."
   ]
  },
  {
   "cell_type": "code",
   "execution_count": null,
   "id": "18e09526-a798-473f-aa48-27de95c12dc5",
   "metadata": {},
   "outputs": [],
   "source": []
  },
  {
   "cell_type": "markdown",
   "id": "d1849ab3-2b0a-4d79-b480-756f68bc0924",
   "metadata": {},
   "source": [
    "## Lists and tuples\n",
    "\n",
    "Apart from strings, Python natively has two datatypes that group values together: lists and tuples. The two function almost exactly the same, with one key difference: lists can be modified \"on the fly\" after definition, while tuples are *immutable*--their individual elements cannot be modified after the fact.\n",
    "\n",
    "For most applications (and most programmers), the additional restriction placed on tuples is irrelevant and pesky. In this lesson, therefore, we'll only use lists.\n",
    "\n",
    "Lists are declared using square brackets `[`. Tuples are declared using round parentheses `(`\n",
    "\n",
    "\n",
    "### List indexing\n",
    "\n",
    "Indexing for lists (and tuples) in Python follows the same rules as indexing for strings. Python lists can also be appended to one another using a `+` operator, just like strings.\n",
    "\n",
    "(One way to think about Python strings is that they are just special lists that can contain only characters and have some special text-specific functionality.)\n",
    "\n"
   ]
  },
  {
   "cell_type": "code",
   "execution_count": 4,
   "id": "30bcbc93-9594-42af-8777-af2a2bf8ec4e",
   "metadata": {},
   "outputs": [
    {
     "name": "stdout",
     "output_type": "stream",
     "text": [
      "a a a\n",
      "['a', 'b', 'c', 'a', 'b', 'c']\n"
     ]
    }
   ],
   "source": [
    "a_list = ['a','b','c']\n",
    "\n",
    "a_tuple = ('a','b','c')\n",
    "\n",
    "equivalent_string = 'abc'\n",
    "\n",
    "print(a_list[0],a_tuple[0],equivalent_string[0])\n",
    "\n",
    "print(a_list + a_list)"
   ]
  },
  {
   "cell_type": "code",
   "execution_count": 5,
   "id": "cb90ba72-7544-4099-99c5-f9aefa9b305f",
   "metadata": {},
   "outputs": [
    {
     "name": "stdout",
     "output_type": "stream",
     "text": [
      "['a', 'B', 'c']\n"
     ]
    },
    {
     "ename": "TypeError",
     "evalue": "'tuple' object does not support item assignment",
     "output_type": "error",
     "traceback": [
      "\u001b[1;31m---------------------------------------------------------------------------\u001b[0m",
      "\u001b[1;31mTypeError\u001b[0m                                 Traceback (most recent call last)",
      "Cell \u001b[1;32mIn[5], line 8\u001b[0m\n\u001b[0;32m      4\u001b[0m \u001b[38;5;28mprint\u001b[39m(a_list)\n\u001b[0;32m      6\u001b[0m \u001b[38;5;66;03m## If we try to do this with a tuple, we get an error instead. \u001b[39;00m\n\u001b[0;32m      7\u001b[0m \u001b[38;5;66;03m## Most of the time, this is just an unnecessary hassle! So tuples are used a lot less.\u001b[39;00m\n\u001b[1;32m----> 8\u001b[0m \u001b[43ma_tuple\u001b[49m\u001b[43m[\u001b[49m\u001b[38;5;241;43m1\u001b[39;49m\u001b[43m]\u001b[49m \u001b[38;5;241m=\u001b[39m \u001b[38;5;124m'\u001b[39m\u001b[38;5;124mB\u001b[39m\u001b[38;5;124m'\u001b[39m\n\u001b[0;32m     10\u001b[0m \u001b[38;5;28mprint\u001b[39m(a_tuple)\n",
      "\u001b[1;31mTypeError\u001b[0m: 'tuple' object does not support item assignment"
     ]
    }
   ],
   "source": [
    "## We can modify individual elements of a list after the fact\n",
    "a_list[1] = 'B'\n",
    "\n",
    "print(a_list)\n",
    "\n",
    "## If we try to do this with a tuple, we get an error instead. \n",
    "## Most of the time, this is just an unnecessary hassle! So tuples are used a lot less.\n",
    "a_tuple[1] = 'B'\n",
    "\n",
    "print(a_tuple)"
   ]
  },
  {
   "cell_type": "markdown",
   "id": "ebf5cf17-76e8-4b7a-af02-e053070a6790",
   "metadata": {},
   "source": [
    "\n",
    "\n",
    "### List contents\n",
    "\n",
    "A list in Python is extremely flexible. It can hold any sequence of any length of elements of any type.\n",
    "\n",
    "You can define a list of only numbers, and this will often be useful. But there is, in principle, nothing stopping you from forming a list of one number, to strings, then another number. You can even form a list of lists.\n"
   ]
  },
  {
   "cell_type": "code",
   "execution_count": 6,
   "id": "58fa11b2-aeef-4441-87af-a1f7afdfd14c",
   "metadata": {},
   "outputs": [
    {
     "name": "stdout",
     "output_type": "stream",
     "text": [
      "[1, 2, 'abc', 'e', 34, 'a', 'B', 'c']\n",
      "[[1, 2, 'abc', 'e', 34], ['a', 'B', 'c'], [1, 2, 'abc', 'e', 34]]\n"
     ]
    }
   ],
   "source": [
    "## Lists can contain elements of any type\n",
    "another_list = [1,2,'abc','e',34]\n",
    "print(another_list + a_list)\n",
    "\n",
    "## Lists of lists are also allowed, and often useful\n",
    "a_list_of_lists = [another_list,a_list,another_list]\n",
    "print(a_list_of_lists)"
   ]
  },
  {
   "cell_type": "markdown",
   "id": "64a9f7a4-f142-41ee-9ea5-29d7afcf0ba7",
   "metadata": {},
   "source": [
    "### Numerical lists\n",
    "\n",
    "A single list of numbers can function in many ways as a \"vector\" in math. A list of equal-length lists of numbers can function in many ways as a \"matrix\" in math.\n",
    "\n",
    "There are some built-in Python functions that perform convenient operations on a numerical list. For example, the `sum()` function will add up all the elements.\n",
    "\n",
    "In other ways, a list of numbers in Python is just a list. For example, the `+` operator will not add the elements--it just appends the lists.\n",
    "\n",
    "Later in this notebook we'll also cover NumPy arrays and matrices, which have additional structure/restrictions and additional functionality to behave like mathematical vectors and matrices."
   ]
  },
  {
   "cell_type": "code",
   "execution_count": 7,
   "id": "b1254c5d-0545-453f-b98c-0f558a364099",
   "metadata": {},
   "outputs": [
    {
     "name": "stdout",
     "output_type": "stream",
     "text": [
      "[1.0, 2.0, 8.0, 9.0]\n",
      "[[1.0, 2.0, 8.0, 9.0], [1.0, 2.0, 8.0, 9.0], [1.0, 2.0, 8.0, 9.0]]\n"
     ]
    }
   ],
   "source": [
    "## This list can be used like a 4-element numerical vector\n",
    "list_of_floats = [1.,2.,8.,9.]\n",
    "print(list_of_floats)\n",
    "\n",
    "## This list of lists is a bit like a 3x4 numerical matrix\n",
    "pseudo_array_of_floats = [list_of_floats,list_of_floats,list_of_floats]\n",
    "print(pseudo_array_of_floats)"
   ]
  },
  {
   "cell_type": "code",
   "execution_count": 8,
   "id": "453e7870-f21c-456b-99fe-e7bfbc441394",
   "metadata": {},
   "outputs": [
    {
     "name": "stdout",
     "output_type": "stream",
     "text": [
      "20.0\n",
      "[1.0, 2.0, 8.0, 9.0, 1.0, 2.0, 8.0, 9.0]\n"
     ]
    }
   ],
   "source": [
    "## sum() function adds up elements in a list, if they are all add-able\n",
    "print(sum(list_of_floats))\n",
    "\n",
    "## A list of floats is **still a list**. The `+` operator will not add the elements, it will just append the lists.\n",
    "print(list_of_floats + list_of_floats)"
   ]
  },
  {
   "cell_type": "markdown",
   "id": "fc246858-2ba0-4faf-8876-8760f9171376",
   "metadata": {},
   "source": [
    "### Quick exercises for lists and tuples\n",
    "\n",
    " 1. Define a list of only numbers.\n",
    " 2. Apply the `sum()`, `max()`, and `min()` functions to your number-only list. Are the results what you expect?\n",
    " 3. Define a list of only strings.\n",
    " 4. Apply the `sum()`, `max()`, and `min()` functions to your string-only list. Are the results what you expect?\n",
    " 5. Define a mixed-type list of some numbers and some strings.\n",
    " 6. Apply the `sum()`, `max()`, and `min()` functions to your mixed list. Are the results what you expect?"
   ]
  },
  {
   "cell_type": "code",
   "execution_count": null,
   "id": "e18eedf2-3187-4043-b059-d737140a2582",
   "metadata": {},
   "outputs": [],
   "source": []
  },
  {
   "cell_type": "markdown",
   "id": "57f23024-2b42-4eb4-a95f-ca461b18558e",
   "metadata": {},
   "source": [
    "## NumPy Arrays and Matrices\n",
    "\n",
    "NumPy Arrays and Matrices are designed to function as mathematical vectors and matrices.\n",
    "\n",
    "They generally must contain elements of only one type.\n",
    "\n",
    "Arrays and matrices of non-numerical datatypes can be constructed but are not usually useful and are rarely used.\n",
    "\n",
    "### Declaring NumPy arrays/matrices\n",
    "\n",
    "You can declare an array or a matrix by feeding a list or a congruent list-of-lists into the `numpy.array()` or `numpy.matrix()` functions.\n",
    "\n",
    "### Array vs. matrix\n",
    "\n",
    "The main difference between an array and a matrix is in how they handle multiplication by default.\n",
    "\n",
    "If you multiply two arrays with a `*` operator, the default is to perform element-wise multiplication.\n",
    "\n",
    "If you multiply two matrices with a `*` operator, the default is to perform matrix multiplication."
   ]
  },
  {
   "cell_type": "code",
   "execution_count": 17,
   "id": "8fb63548-d960-4a8b-8ce7-7a9298dcfcea",
   "metadata": {},
   "outputs": [
    {
     "name": "stdout",
     "output_type": "stream",
     "text": [
      "[[ 1  4  9]\n",
      " [16 25 36]\n",
      " [49 64 81]]\n",
      "[[ 30  36  42]\n",
      " [ 66  81  96]\n",
      " [102 126 150]]\n"
     ]
    }
   ],
   "source": [
    "import numpy as np\n",
    "\n",
    "an_array = np.array([[1,2,3],[4,5,6],[7,8,9]])\n",
    "\n",
    "a_matrix = np.matrix([[1,2,3],[4,5,6],[7,8,9]])\n",
    "\n",
    "\n",
    "print(an_array*an_array)\n",
    "\n",
    "print(a_matrix*a_matrix)"
   ]
  },
  {
   "cell_type": "markdown",
   "id": "d5aa4b87-6e96-4341-9b3f-f28355752067",
   "metadata": {},
   "source": [
    "### Numerical operations with NumPy arrays vs. Python lists\n",
    "\n",
    "NumPy arrays are designed to be convenient for many common types of numerical operations.\n",
    "\n",
    "For example, adding a scalar to a NumPy array with the `+` operator adds that scalar to each element in the array.\n",
    "\n",
    "If you try to do the same with a list, you get an error. `+` for lists is only for appending.\n",
    "\n",
    "There is a way to do the element-wise addition operation with lists, but it requires us to first cover the topic of loops."
   ]
  },
  {
   "cell_type": "code",
   "execution_count": 18,
   "id": "0ed3b045-16f0-422f-b68f-dfd96e9ff55f",
   "metadata": {},
   "outputs": [
    {
     "name": "stdout",
     "output_type": "stream",
     "text": [
      "[1 2 3 4 5 6 7 8 9]\n",
      "[ 6  7  8  9 10 11 12 13 14]\n"
     ]
    },
    {
     "ename": "TypeError",
     "evalue": "can only concatenate list (not \"int\") to list",
     "output_type": "error",
     "traceback": [
      "\u001b[1;31m---------------------------------------------------------------------------\u001b[0m",
      "\u001b[1;31mTypeError\u001b[0m                                 Traceback (most recent call last)",
      "Cell \u001b[1;32mIn[18], line 13\u001b[0m\n\u001b[0;32m      9\u001b[0m \u001b[38;5;28mprint\u001b[39m(a_onedimensional_array \u001b[38;5;241m+\u001b[39m \u001b[38;5;241m5\u001b[39m)\n\u001b[0;32m     11\u001b[0m \u001b[38;5;66;03m## Not so simple with the list. We get an error!\u001b[39;00m\n\u001b[0;32m     12\u001b[0m \u001b[38;5;66;03m## There's a way to add a scalar to each list element, but it requires covering loops first\u001b[39;00m\n\u001b[1;32m---> 13\u001b[0m \u001b[38;5;28mprint\u001b[39m(\u001b[43mequivalent_list\u001b[49m\u001b[43m \u001b[49m\u001b[38;5;241;43m+\u001b[39;49m\u001b[43m \u001b[49m\u001b[38;5;241;43m5\u001b[39;49m)\n",
      "\u001b[1;31mTypeError\u001b[0m: can only concatenate list (not \"int\") to list"
     ]
    }
   ],
   "source": [
    "## Define a list of integers\n",
    "equivalent_list = [1,2,3,4,5,6,7,8,9]\n",
    "\n",
    "## Make a NumPy array from the list\n",
    "a_onedimensional_array = np.array(equivalent_list)\n",
    "\n",
    "## It's simple to add a scalar to each element of our NumPy array\n",
    "print(a_onedimensional_array)\n",
    "print(a_onedimensional_array + 5)\n",
    "\n",
    "## Not so simple with the list. We get an error!\n",
    "## There's a way to add a scalar to each list element, but it requires covering loops first\n",
    "print(equivalent_list + 5)\n"
   ]
  },
  {
   "cell_type": "markdown",
   "id": "c4063787-2a13-474e-adcb-6f22e57c5d11",
   "metadata": {},
   "source": [
    "### Quick exercises for NumPy arrays\n",
    "\n",
    " 1. Define a an array with 1 row and 3 columns.\n",
    " 2. Multiply this array by itself. Is the result what you expect?\n",
    " 3. Multiply this array by a constant. Is the result what you expect?\n",
    " 4. Convert your array to a matrix using the `numpy.matrix()` function.\n",
    " 5. Multiply this matrix by itself. Is the result what you expect?\n",
    " 6. Define a new matrix which is the transpose of your original matrix, using either the `numpy.transpose()` function or the `.T` method.\n",
    " 7. Multiply your original matrix by its transpose. Is the result what you expect?\n",
    " 8. Define two new arrays: one with 1 row and 3 columns, and another with 1 row and 4 columns. Multiply them. Is the result what you expect?"
   ]
  },
  {
   "cell_type": "code",
   "execution_count": null,
   "id": "a9b1d286-71a9-4a09-837e-977f3c5f4bc8",
   "metadata": {},
   "outputs": [],
   "source": []
  },
  {
   "cell_type": "markdown",
   "id": "eaa9e205-7c6f-4cb2-9a99-1815128d5e52",
   "metadata": {},
   "source": [
    "### Logical indexing\n",
    "\n",
    "A convenient type of indexing that can be used with NumPy arrays is \"logical indexing.\" It allows you to select elements of an array according to a vector of Boolean \"True/False\" values.\n",
    "\n",
    "For example,\n",
    "\n",
    "```\n",
    "a_onedimensional_array[[False,True,True,False,False,True,True,False,True]]\n",
    "```\n",
    "\n",
    "...will select the 2nd, 3rd, 6th, 7th, and 9th elements of the array we defined in a previous demonstration codeblock.\n",
    "\n",
    "The list/array of \"True/False\" values must be the same shape as the array its being used to index. It can be arbitrary, like the one we just saw, but it is more often convenient to define it according to a condition which is applied to each element of the same array. For example,\n",
    "\n",
    "\n",
    "```\n",
    "a_onedimensional_array[a_onedimensional_array > 3]\n",
    "```\n",
    "\n",
    "...will give us all the elements in the array which are greater than 3.\n"
   ]
  },
  {
   "cell_type": "code",
   "execution_count": 19,
   "id": "4e264083-9762-40ea-b6dc-d1af9c64b1fd",
   "metadata": {},
   "outputs": [
    {
     "name": "stdout",
     "output_type": "stream",
     "text": [
      "[2 3 6 7 9]\n",
      "\n",
      "[4 5 6 7 8 9]\n"
     ]
    }
   ],
   "source": [
    "## Logical indexing with an arbitrary list of True/False values\n",
    "print(a_onedimensional_array[[False,True,True,False,False,True,True,False,True]])\n",
    "print('')\n",
    "\n",
    "## Logical indexing with a Boolean array generated from a logical test applied to each element of the same array\n",
    "print(a_onedimensional_array[a_onedimensional_array > 3])\n"
   ]
  },
  {
   "cell_type": "markdown",
   "id": "d1a01ab1-46c3-47a5-9bfb-f94093a38a57",
   "metadata": {},
   "source": [
    "### Quick exercises for logical indexing\n",
    "\n",
    " 1. Define a 1-dimensional array and index it using two different logical conditions.\n",
    " 2. Define a 2-dimensional array and index it using two different logical conditions."
   ]
  },
  {
   "cell_type": "code",
   "execution_count": null,
   "id": "24d6cb94-a284-4d7f-b780-9aa6298537e9",
   "metadata": {},
   "outputs": [],
   "source": []
  },
  {
   "cell_type": "markdown",
   "id": "1e450c8b-0975-4c6d-a43c-029b803d023c",
   "metadata": {},
   "source": [
    "## `for` Loops\n",
    "\n",
    "The simplest kind of loop in Python is a `for` loop. It will loop through a sequence of elements pulled from a list or other \"iterable\" element."
   ]
  },
  {
   "cell_type": "code",
   "execution_count": 20,
   "id": "3f6dd300-752c-4860-b688-d0b95aec1865",
   "metadata": {},
   "outputs": [
    {
     "name": "stdout",
     "output_type": "stream",
     "text": [
      "0\n",
      "1\n",
      "2\n"
     ]
    }
   ],
   "source": [
    "for x in [0,1,2]:\n",
    "    print(x)"
   ]
  },
  {
   "cell_type": "markdown",
   "id": "d5f28ffb-a8f2-4f72-86d5-9ee8e9535b1c",
   "metadata": {},
   "source": [
    "If we want to cycle through a list of consecutive integers, a quick way to get a sequence of all the integers we'll need is to use the built-in `range()` function.\n",
    "\n",
    "In the cell below, we see three different ways to pull 0,1,2 in sequence: \n",
    "\n",
    "  1. by indexing the first 3 elements of a list of integers that we've defined\n",
    "  2. by calling `range(3)`, which by default starts from 0\n",
    "  3. by calling `range(0,3)`. Here we've explicitly specified the start point as 0."
   ]
  },
  {
   "cell_type": "code",
   "execution_count": 21,
   "id": "b04bd611-7958-4171-8624-ba5fb7bd2d7c",
   "metadata": {},
   "outputs": [
    {
     "name": "stdout",
     "output_type": "stream",
     "text": [
      "Method 1: first 3 elements of our list\n",
      "0\n",
      "1\n",
      "2\n",
      "\n",
      "Method 2: `range()`, with implicit start point of 0\n",
      "0\n",
      "1\n",
      "2\n",
      "\n",
      "Method 3: `range()`, with explicit start point of 0\n",
      "0\n",
      "1\n",
      "2\n",
      "\n"
     ]
    }
   ],
   "source": [
    "list_of_integers = [0,1,2,3,4,5,6,7,8,9]\n",
    "\n",
    "print('Method 1: first 3 elements of our list')\n",
    "for x in list_of_integers[0:3]:\n",
    "    print(x)\n",
    "print('')\n",
    "\n",
    "print('Method 2: `range()`, with implicit start point of 0')\n",
    "for x in range(3):\n",
    "    print(x)\n",
    "print('')\n",
    "\n",
    "print('Method 3: `range()`, with explicit start point of 0')\n",
    "for x in range(0,3):\n",
    "    print(x)\n",
    "print('')\n",
    "\n"
   ]
  },
  {
   "cell_type": "markdown",
   "id": "27cd9494-8589-411f-a114-14dc87cd9837",
   "metadata": {},
   "source": [
    "### Uses of loops\n",
    "\n",
    "Loops can have many uses. For example, we can output a sequence of powers of 2."
   ]
  },
  {
   "cell_type": "code",
   "execution_count": 22,
   "id": "84b4c14f-9c3a-439a-b9a0-3e433e095967",
   "metadata": {},
   "outputs": [
    {
     "name": "stdout",
     "output_type": "stream",
     "text": [
      "1\n",
      "2\n",
      "4\n",
      "8\n",
      "16\n",
      "32\n",
      "64\n",
      "128\n",
      "256\n",
      "512\n",
      "1024\n",
      "2048\n",
      "4096\n",
      "8192\n",
      "16384\n",
      "32768\n"
     ]
    }
   ],
   "source": [
    "for j in range(16):\n",
    "    print(2**j)"
   ]
  },
  {
   "cell_type": "markdown",
   "id": "6708e6ed-2f6a-4e5e-962b-874bc553bdc8",
   "metadata": {},
   "source": [
    "### Vectorization\n",
    "\n",
    "For many types of loop operations, there is an equivalent operation that could be performed across a pre-defined list or array, which is often called the \"vectorized\" for of the operation.\n",
    "\n",
    "This can be important because when many thousands or millions of calculations must be performed, vectorized operations in NumPy and in some other languages like Matlab are optimized to be much faster than loop operations.\n",
    "\n",
    "Below is an example of vectorizing the calculation of powers of 2."
   ]
  },
  {
   "cell_type": "code",
   "execution_count": 23,
   "id": "ee827928-6c59-4ccb-bac6-849b04334fd1",
   "metadata": {},
   "outputs": [
    {
     "name": "stdout",
     "output_type": "stream",
     "text": [
      "[    1     2     4     8    16    32    64   128   256   512  1024  2048\n",
      "  4096  8192 16384 32768]\n"
     ]
    }
   ],
   "source": [
    "array_of_powers = np.array(range(16))\n",
    "\n",
    "powers_of_two = 2**array_of_powers\n",
    "\n",
    "print(powers_of_two)"
   ]
  },
  {
   "cell_type": "markdown",
   "id": "fd319bdd-0bee-40a7-8310-5e71d414be18",
   "metadata": {},
   "source": [
    "### Quick exercises for `for` loops\n",
    "\n",
    " 1. Write a loop that implements some mathematical sequence.\n",
    " 2. Write a vectorized version of the same loop that uses NumPy arrays."
   ]
  },
  {
   "cell_type": "code",
   "execution_count": null,
   "id": "23a8000f-fbbf-4956-b2bc-1606e38468db",
   "metadata": {},
   "outputs": [],
   "source": []
  },
  {
   "cell_type": "markdown",
   "id": "918079ed-fd71-4ebc-887c-d5ad4ce1ae36",
   "metadata": {},
   "source": [
    "## Integer ranges\n",
    "\n",
    "Sometimes it is convenient to construct an array of numbers in a regular sequence. In Python, one convenient way to do this is with the built-in `range()` funciton.\n",
    "\n",
    "The built-in function `range()` will construct a sequence of integers between two integers.\n",
    " - If you provide only one number input, `range(a)` will construct a sequence from `0` to `a-1`.\n",
    " - If you provide two numbers, `range(a,b)` will be between `a` and `b-1`.\n",
    " - If you provide three numbers, `range(a,b,c)` will be between `a` and `b-1` with step-size `c`.\n",
    "\n",
    "For efficiency, Python will actually not calculate the elements of a range and store them in memory when you declare it. It will only calculate them and pull them out one at a time as you move through the sequence. This is useful in some situations where you might be pulling numbers from a very long sequence (thousands or millions) but don't need to store them all at once.\n",
    "\n",
    "If you want to make Python calculate all the elements and store them together, one way to do this is to enter it as an argument to the `numpy.array()` function. Then a NumPy array will be created with the elements of the sequence."
   ]
  },
  {
   "cell_type": "code",
   "execution_count": 24,
   "id": "f6d7aaa4-e8b4-4b72-ac97-1429a76dbab3",
   "metadata": {},
   "outputs": [
    {
     "name": "stdout",
     "output_type": "stream",
     "text": [
      "until we start pulling out elements, a `range` is just a set of parameters\n",
      "range(-1, 18, 2)\n",
      "\n",
      "we can pull the elements out with a `for` loop\n",
      "-1\n",
      "1\n",
      "3\n",
      "5\n",
      "7\n",
      "9\n",
      "11\n",
      "13\n",
      "15\n",
      "17\n",
      "\n",
      "we can also use a range to define a NumPy array\n",
      "[-1  1  3  5  7  9 11 13 15 17]\n",
      "\n"
     ]
    }
   ],
   "source": [
    "import numpy as np\n",
    "\n",
    "a_range = range(-1,18,2)\n",
    "\n",
    "print('until we start pulling out elements, a `range` is just a set of parameters')\n",
    "print(a_range)\n",
    "print('')\n",
    "\n",
    "print('we can pull the elements out with a `for` loop')\n",
    "for j in a_range:\n",
    "    print(j)\n",
    "print('')\n",
    "\n",
    "print('we can also use a range to define a NumPy array')\n",
    "print(np.array(a_range))\n",
    "print('')\n"
   ]
  },
  {
   "cell_type": "markdown",
   "id": "7abad380-a7bc-4119-beef-2620c3d58dce",
   "metadata": {},
   "source": [
    "## Linear Spaces\n",
    "\n",
    "The `range()` built-in function only takes integers as arguments.\n",
    "\n",
    "If you wanted a regular sequence where the start- or stop-point, or the step size are not integers, you could create a NumPy array of an integer sequence then multiply all the elements by a constant.\n",
    "\n",
    "A much easier way to achieve the same thing would be to use the `numpy.linspace()` function. With this function, you specify the start, then end, and the number of elements.\n",
    "\n",
    "Note that here we are specifying the number of elements instead of the stepsize directly. Sometimes it is more convenient to specify the stepsize, and sometimes it is more convenient to specify the number of elements, but you can always make a calculation to get one from the other if you need to."
   ]
  },
  {
   "cell_type": "code",
   "execution_count": 25,
   "id": "c1d030c7-f570-43ff-9340-48097a50fbb2",
   "metadata": {},
   "outputs": [
    {
     "name": "stdout",
     "output_type": "stream",
     "text": [
      "this generates the same sequence we made with the `range` function above\n",
      "[-1.  1.  3.  5.  7.  9. 11. 13. 15. 17.]\n",
      "\n",
      "Need 100 numbers between 0 and 1? Here you go!\n",
      "[0.         0.01010101 0.02020202 0.03030303 0.04040404 0.05050505\n",
      " 0.06060606 0.07070707 0.08080808 0.09090909 0.1010101  0.11111111\n",
      " 0.12121212 0.13131313 0.14141414 0.15151515 0.16161616 0.17171717\n",
      " 0.18181818 0.19191919 0.2020202  0.21212121 0.22222222 0.23232323\n",
      " 0.24242424 0.25252525 0.26262626 0.27272727 0.28282828 0.29292929\n",
      " 0.3030303  0.31313131 0.32323232 0.33333333 0.34343434 0.35353535\n",
      " 0.36363636 0.37373737 0.38383838 0.39393939 0.4040404  0.41414141\n",
      " 0.42424242 0.43434343 0.44444444 0.45454545 0.46464646 0.47474747\n",
      " 0.48484848 0.49494949 0.50505051 0.51515152 0.52525253 0.53535354\n",
      " 0.54545455 0.55555556 0.56565657 0.57575758 0.58585859 0.5959596\n",
      " 0.60606061 0.61616162 0.62626263 0.63636364 0.64646465 0.65656566\n",
      " 0.66666667 0.67676768 0.68686869 0.6969697  0.70707071 0.71717172\n",
      " 0.72727273 0.73737374 0.74747475 0.75757576 0.76767677 0.77777778\n",
      " 0.78787879 0.7979798  0.80808081 0.81818182 0.82828283 0.83838384\n",
      " 0.84848485 0.85858586 0.86868687 0.87878788 0.88888889 0.8989899\n",
      " 0.90909091 0.91919192 0.92929293 0.93939394 0.94949495 0.95959596\n",
      " 0.96969697 0.97979798 0.98989899 1.        ]\n",
      "\n"
     ]
    }
   ],
   "source": [
    "print('this generates the same sequence we made with the `range` function above')\n",
    "a_linspace = np.linspace(-1,17,10)\n",
    "print(a_linspace)\n",
    "print('')\n",
    "\n",
    "print('Need 100 numbers between 0 and 1? Here you go!')\n",
    "another_linspace = np.linspace(0,1,100)\n",
    "print(another_linspace)\n",
    "print('')"
   ]
  },
  {
   "cell_type": "markdown",
   "id": "95f67cd6-ad2e-402f-af19-4b01c9b00cbf",
   "metadata": {},
   "source": [
    "### Quick exercises for ranges and linear spaces\n",
    "\n",
    "Implement the following three sequences both using the `range()` function and using the `numpy.linspace()` function:\n",
    " 1. First element: -8. Last element: 9. Number of elements: 18\n",
    " 2. First element: -2. Last element: 2. Number of elements: 1000\n",
    " 3. First element: 8. Last element: 12. Step size: 2"
   ]
  },
  {
   "cell_type": "code",
   "execution_count": null,
   "id": "e60387f4-4fa9-419b-b2dc-09403b965231",
   "metadata": {},
   "outputs": [],
   "source": []
  }
 ],
 "metadata": {
  "kernelspec": {
   "display_name": "Python 3 (ipykernel)",
   "language": "python",
   "name": "python3"
  },
  "language_info": {
   "codemirror_mode": {
    "name": "ipython",
    "version": 3
   },
   "file_extension": ".py",
   "mimetype": "text/x-python",
   "name": "python",
   "nbconvert_exporter": "python",
   "pygments_lexer": "ipython3",
   "version": "3.12.1"
  }
 },
 "nbformat": 4,
 "nbformat_minor": 5
}
